{
 "cells": [
  {
   "cell_type": "markdown",
   "metadata": {},
   "source": [
    "# Challenge: Personas desaparecidas"
   ]
  },
  {
   "cell_type": "markdown",
   "metadata": {},
   "source": [
    "EL siguiente dataset es un conjunto de datos acerca de personas desaperecidas en la república mexicana, del año 2010 al 2015."
   ]
  },
  {
   "cell_type": "markdown",
   "metadata": {},
   "source": [
    "### Diccionario de datos:\n",
    "\n",
    "- inegi: Clave dada por el INEGI a cada municipio. Primeros dos dígitos \n",
    "- corresponden al estado, los siguientes tres al municipio\n",
    "- ent: Parte de la clave de INEGI que corresponde a la entidad federativa.\n",
    "- nom_ent: Nombre oficial de la entidad federativa.\n",
    "- year: Año en el que se denunciaron las despariciones\n",
    "- sexo: Sexo de las personas desaparecidas\n",
    "- rango_edad: Rango de edades de las personas en el grupo en cuestión.\n",
    "- pob: Población total del municipio en ese año para ese grupo.\n",
    "- total: Total de personas deparecidas de ese grupo en ese año.\n",
    "- tdes: Tasa de desaparecidos en ese municipio en ese grupo\n",
    "\n",
    "Nota: Recuerda, cada observación corresponde a un grupo de personas desparecidas de un cierto sexo, en un cierto municipio y un cierto rango de edad."
   ]
  },
  {
   "cell_type": "code",
   "execution_count": null,
   "metadata": {},
   "outputs": [],
   "source": [
    "import numpy as np\n",
    "import pandas as pd\n",
    "import matplotlib.pyplot as plt\n",
    "# %matplotlib inline #Se utilizar para mostrar la gráfica inmediatamente después del código \n",
    "import seaborn as sns"
   ]
  },
  {
   "cell_type": "markdown",
   "metadata": {},
   "source": [
    "## Instrucciones\n",
    "Hay 3 preguntas clave que podemos responder con estos datos.\n",
    "\n",
    "1. ¿Cuántos desaparecidos hubo por municipio en...2011 (año más violento)?\n",
    "2. \n",
    "3."
   ]
  },
  {
   "cell_type": "markdown",
   "metadata": {},
   "source": [
    "#### Pregunta 1: ¿Cuántos desaparecidos hubo por municipio en...2011 (año más violento)?\n",
    "Esta primera  gráfica será un scatter, pero que va a cumplir la función de las barras dado que vamos a graficar 2,456 municipios"
   ]
  }
 ],
 "metadata": {
  "kernelspec": {
   "display_name": "Python 3",
   "language": "python",
   "name": "python3"
  },
  "language_info": {
   "codemirror_mode": {
    "name": "ipython",
    "version": 3
   },
   "file_extension": ".py",
   "mimetype": "text/x-python",
   "name": "python",
   "nbconvert_exporter": "python",
   "pygments_lexer": "ipython3",
   "version": "3.8.5"
  }
 },
 "nbformat": 4,
 "nbformat_minor": 4
}
