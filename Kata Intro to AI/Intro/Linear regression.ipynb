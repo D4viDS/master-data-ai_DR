{
 "cells": [
  {
   "cell_type": "code",
   "execution_count": 1,
   "metadata": {
    "colab": {
     "base_uri": "https://localhost:8080/",
     "height": 573
    },
    "executionInfo": {
     "elapsed": 690,
     "status": "ok",
     "timestamp": 1603414835877,
     "user": {
      "displayName": "Enrique Díaz",
      "photoUrl": "https://lh3.googleusercontent.com/a-/AOh14Gj-9c_gVbdOrh1TPwn7g1oKw5TR3WqeMqVcwrTf9g=s64",
      "userId": "17549734348715053613"
     },
     "user_tz": 300
    },
    "id": "r651XqGDQ7Sw",
    "outputId": "ae329481-56da-4b45-8b29-eb99f476eb29"
   },
   "outputs": [
    {
     "name": "stdout",
     "output_type": "stream",
     "text": [
      "    YearsExperience    Salary\n",
      "0               1.1   39343.0\n",
      "1               1.3   46205.0\n",
      "2               1.5   37731.0\n",
      "3               2.0   43525.0\n",
      "4               2.2   39891.0\n",
      "5               2.9   56642.0\n",
      "6               3.0   60150.0\n",
      "7               3.2   54445.0\n",
      "8               3.2   64445.0\n",
      "9               3.7   57189.0\n",
      "10              3.9   63218.0\n",
      "11              4.0   55794.0\n",
      "12              4.0   56957.0\n",
      "13              4.1   57081.0\n",
      "14              4.5   61111.0\n",
      "15              4.9   67938.0\n",
      "16              5.1   66029.0\n",
      "17              5.3   83088.0\n",
      "18              5.9   81363.0\n",
      "19              6.0   93940.0\n",
      "20              6.8   91738.0\n",
      "21              7.1   98273.0\n",
      "22              7.9  101302.0\n",
      "23              8.2  113812.0\n",
      "24              8.7  109431.0\n",
      "25              9.0  105582.0\n",
      "26              9.5  116969.0\n",
      "27              9.6  112635.0\n",
      "28             10.3  122391.0\n",
      "29             10.5  121872.0\n"
     ]
    }
   ],
   "source": [
    "# Simple Linear Regression\n",
    "# Objetivo: ¡Construye una regresión lineal!\n",
    "# Importing the libraries\n",
    "\n",
    "\n",
    "import numpy as np\n",
    "import matplotlib.pyplot as plt\n",
    "import pandas as pd\n",
    "\n",
    "# Importing the datasets\n",
    "# Load DataSet from public URL\n",
    "# TODO: Utilizar Belvo API para obtener información de ingreso en los últimos 36 meses.\n",
    "# K entrega datasets de alumnos becados de FB 2017-2018.\n",
    "\n",
    "#url = 'https://raw.githubusercontent.com/dhirajk100/linear_regression/master/data.csv'\n",
    "url = 'https://raw.githubusercontent.com/Krax7/master-data-ai/main/Kata%20Intro%20to%20AI/Intro/data.csv'\n",
    "datasets = pd.read_csv(url)\n",
    "\n",
    "print (datasets)"
   ]
  },
  {
   "cell_type": "code",
   "execution_count": 2,
   "metadata": {},
   "outputs": [],
   "source": [
    "X = datasets.iloc[:, :-1].values\n",
    "Y = datasets.iloc[:, 1].values"
   ]
  },
  {
   "cell_type": "code",
   "execution_count": 6,
   "metadata": {},
   "outputs": [
    {
     "name": "stdout",
     "output_type": "stream",
     "text": [
      "LinearRegression()\n"
     ]
    }
   ],
   "source": [
    "# Splitting the dataset into the Training set and Test set\n",
    "from sklearn.model_selection import train_test_split\n",
    "\n",
    "X_Train, X_Test, Y_Train, Y_Test = train_test_split(X, Y, test_size = 1/3, random_state = 0)\n",
    "\n",
    "# Fitting Simple Linear Regression to the training set\n",
    "\n",
    "from sklearn.linear_model import LinearRegression\n",
    "regressor = LinearRegression()\n",
    "print(regressor)\n",
    "regressor.fit(X_Train, Y_Train)\n",
    "\n",
    "# Predicting the Test set result ￼\n",
    "\n",
    "Y_Pred = regressor.predict(X_Test)"
   ]
  },
  {
   "cell_type": "code",
   "execution_count": 7,
   "metadata": {},
   "outputs": [
    {
     "data": {
      "image/png": "[encoded data removed]",
      "text/plain": [
       "<Figure size 432x288 with 1 Axes>"
      ]
     },
     "metadata": {
      "needs_background": "light"
     },
     "output_type": "display_data"
    }
   ],
   "source": [
    "# Visualising the Training set results\n",
    "\n",
    "#Printing first graph\n",
    "plt.scatter(X_Train, Y_Train, color = 'pink')\n",
    "plt.plot(X_Train, regressor.predict(X_Train), color = 'purple')\n",
    "plt.title('Salary vs Experience  (Training Set)')\n",
    "plt.xlabel('Years of experience')\n",
    "plt.ylabel('Salary')\n",
    "plt.show()\n"
   ]
  },
  {
   "cell_type": "code",
   "execution_count": 5,
   "metadata": {},
   "outputs": [
    {
     "data": {
      "image/png": "[encoded data removed]",
      "text/plain": [
       "<Figure size 432x288 with 1 Axes>"
      ]
     },
     "metadata": {
      "needs_background": "light"
     },
     "output_type": "display_data"
    }
   ],
   "source": [
    "#Printing second graph\n",
    "# Visualising the Test set results\n",
    "\n",
    "plt.scatter(X_Test, Y_Test, color = 'blue')\n",
    "plt.plot(X_Train, regressor.predict(X_Train), color = 'blue')\n",
    "plt.title('Salary vs Experience  (Test Set)')\n",
    "plt.xlabel('Years of experience')\n",
    "plt.ylabel('Salary')\n",
    "plt.show()\n"
   ]
  },
  {
   "cell_type": "code",
   "execution_count": null,
   "metadata": {},
   "outputs": [],
   "source": []
  }
 ],
 "metadata": {
  "colab": {
   "authorship_tag": "ABX9TyOslKm7A5t/axLvjKAKZ/la",
   "name": "Linear regression.ipynb",
   "provenance": []
  },
  "kernelspec": {
   "display_name": "Python 3",
   "language": "python",
   "name": "python3"
  },
  "language_info": {
   "codemirror_mode": {
    "name": "ipython",
    "version": 3
   },
   "file_extension": ".py",
   "mimetype": "text/x-python",
   "name": "python",
   "nbconvert_exporter": "python",
   "pygments_lexer": "ipython3",
   "version": "3.7.9"
  }
 },
 "nbformat": 4,
 "nbformat_minor": 4
}
