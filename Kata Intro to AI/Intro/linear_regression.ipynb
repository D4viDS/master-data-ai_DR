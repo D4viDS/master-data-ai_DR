# Simple Linear Regression
# Objetivo: ¡Construye una regresión lineal!
# Importing the libraries


import numpy as np
import matplotlib.pyplot as plt
import pandas as pd

# Importing the datasets
# Load DataSet from public URL
# TODO: Utilizar Belvo API para obtener información de ingreso en los últimos 36 meses.
# K entrega datasets de alumnos becados de FB 2017-2018.

url = 'https://raw.githubusercontent.com/dhirajk100/linear_regression/master/data.csv'
datasets = pd.read_csv(url)


X = datasets.iloc[:, :-1].values
Y = datasets.iloc[:, 1].values

# Splitting the dataset into the Training set and Test set

from sklearn.model_selection import train_test_split

X_Train, X_Test, Y_Train, Y_Test = train_test_split(X, Y, test_size = 1/3, random_state = 0)

# Fitting Simple Linear Regression to the training set

from sklearn.linear_model import LinearRegression
regressor = LinearRegression()
regressor.fit(X_Train, Y_Train)

# Predicting the Test set result ￼

Y_Pred = regressor.predict(X_Test)


# Visualising the Training set results

#Printing first graph
plt.scatter(X_Train, Y_Train, color = 'blue')
plt.plot(X_Train, regressor.predict(X_Train), color = 'purple')
plt.title('Salary vs Experience  (Training Set)')
plt.xlabel('Years of experience')
plt.ylabel('Salary')
plt.show()



#Printing second graph
# Visualising the Test set results

plt.scatter(X_Test, Y_Test, color = 'blue')
plt.plot(X_Train, regressor.predict(X_Train), color = 'blue')
plt.title('Salary vs Experience  (Test Set)')
plt.xlabel('Years of experience')
plt.ylabel('Salary')
plt.show()
