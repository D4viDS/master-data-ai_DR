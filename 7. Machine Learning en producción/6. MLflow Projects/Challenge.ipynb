{
 "cells": [
  {
   "cell_type": "markdown",
   "metadata": {
    "id": "WlsORPOWB259"
   },
   "source": [
    "# 🦩 Challenge 🏁🏁"
   ]
  },
  {
   "cell_type": "markdown",
   "metadata": {
    "id": "HdsHLV3vELAQ"
   },
   "source": [
    "Aquí hay 2 modelos desarrollados en clase durante el [modulo 5 de Machine Learning](https://drive.google.com/drive/folders/1Kd-eCw_6wmAd49ssct5RhAxpX3IvqymQ?usp=sharing) a los que buscaremos empaquetar en un proyecto.\n"
   ]
  },
  {
   "cell_type": "markdown",
   "metadata": {
    "id": "7lhCx-YyAFqB"
   },
   "source": [
    "[5 ML/ 0 Intro a ML](https://drive.google.com/drive/folders/1CbepLnsToGqsRH29CtW72XWxWAtWb8h0)/ [KNN.ipynb](https://colab.research.google.com/drive/1ruTxYmrx1NVTZwsnXMkVhwXdMaM2xhbf) \n",
    "\n",
    "[5 ML/ 2 Algoritmos de Regresion]( https://drive.google.com/drive/folders/190TYRNIxDBii-yeNbqL0rbCCK1PzlHuv)/ [Regresión lineal](https://drive.google.com/file/d/1C2c0JVNFiJ_FeUrLGqC6ABpcrbAoiBfw/view?usp=sharing)"
   ]
  },
  {
   "cell_type": "markdown",
   "metadata": {
    "id": "Xtbx_krpE11R"
   },
   "source": [
    "\n",
    "## Instrucciones\n",
    "Selecciona uno de los modelos de la lista o sientete libre de desarrollar alguno por tu cuenta y cumple los siguentes pasos.\n",
    "- Crea una carpeta con los scripts y archivos necesarios para ejecutar el modelo. Verifica que funcione correctamente.\n",
    "- Crea los archivos de configuración conda.yaml y MLproject dentro de la misma carpeta, especifica al menos un entry point a tu modelo.\n",
    "- Crea un repositorio de github y sube el modelo al repositorio.\n",
    "- Comparte tu modelo, con instrucciones de como ejecutarlo."
   ]
  }
 ],
 "metadata": {
  "colab": {
   "collapsed_sections": [],
   "name": "Challenge.ipynb",
   "provenance": []
  },
  "kernelspec": {
   "display_name": "Python 3 (ipykernel)",
   "language": "python",
   "name": "python3"
  },
  "language_info": {
   "codemirror_mode": {
    "name": "ipython",
    "version": 3
   },
   "file_extension": ".py",
   "mimetype": "text/x-python",
   "name": "python",
   "nbconvert_exporter": "python",
   "pygments_lexer": "ipython3",
   "version": "3.8.8"
  }
 },
 "nbformat": 4,
 "nbformat_minor": 4
}
