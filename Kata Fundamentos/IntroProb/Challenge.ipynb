{
 "cells": [
  {
   "cell_type": "markdown",
   "metadata": {},
   "source": [
    "# Probabilidad"
   ]
  },
  {
   "cell_type": "markdown",
   "metadata": {},
   "source": [
    "Lo que voy a hacer es tomar 100.000 personas virtuales y asignarlas al azar a un grupo de edad. Pueden tener 20, 30, 40, 50, 60 o 70 años. También les voy a asignar una serie de cosas que compraron durante un período de tiempo, y voy a sopesar la probabilidad de comprar algo en función de su edad."
   ]
  },
  {
   "cell_type": "code",
   "execution_count": 3,
   "metadata": {},
   "outputs": [],
   "source": [
    "from numpy import random \n",
    "random.seed(0)  \n",
    "totals = {20:0, 30:0, 40:0, 50:0, 60:0, 70:0} \n",
    "purchases = {20:0, 30:0, 40:0, 50:0, 60:0, 70:0} \n",
    "totalPurchases = 0 \n",
    "for _ in range(100000):     \n",
    "    ageDecade = random.choice([20, 30, 40, 50, 60, 70])     \n",
    "    purchaseProbability = float(ageDecade) / 100.0     \n",
    "    totals[ageDecade] += 1     \n",
    "    if (random.random() < purchaseProbability):         \n",
    "        totalPurchases += 1         \n",
    "        purchases[ageDecade] += 1 "
   ]
  },
  {
   "cell_type": "markdown",
   "metadata": {},
   "source": [
    "Usemos estos datos para jugar con las ideas de probabilidad condicional."
   ]
  },
  {
   "cell_type": "markdown",
   "metadata": {},
   "source": [
    " ¿Cuál es la probabilidad de comprar algo dado que tienes 30 años?\n",
    " Definamos:"
   ]
  },
  {
   "cell_type": "markdown",
   "metadata": {},
   "source": [
    "E:"
   ]
  },
  {
   "cell_type": "code",
   "execution_count": null,
   "metadata": {},
   "outputs": [],
   "source": []
  },
  {
   "cell_type": "markdown",
   "metadata": {},
   "source": [
    "F:"
   ]
  },
  {
   "cell_type": "code",
   "execution_count": null,
   "metadata": {},
   "outputs": [],
   "source": []
  },
  {
   "cell_type": "markdown",
   "metadata": {},
   "source": [
    "Tal que podamos representar la pregunta anterior como el cálculo de la probabilidad de P(E|F) directamente."
   ]
  },
  {
   "cell_type": "code",
   "execution_count": 10,
   "metadata": {},
   "outputs": [],
   "source": [
    "# Descomenta la siguiente linea y agrega como hacer el cálculo de esta probabilidad\n",
    "# PEF = "
   ]
  },
  {
   "cell_type": "markdown",
   "metadata": {},
   "source": [
    "Probabilidad de comprar algo dado que estás en tus 30 años."
   ]
  },
  {
   "cell_type": "markdown",
   "metadata": {},
   "source": [
    "La pregunta anterior es para prácticar el hecho de que no siempre es necesario aplicar las fórmulas tal y cómo las conocemos, podemos asumir las probabilidades analizando las cantidades conocidas y su relación."
   ]
  },
  {
   "cell_type": "markdown",
   "metadata": {},
   "source": [
    "Para poder ejecutar la fórmula de probabilidad condicional:\n",
    "\n",
    "    Encuentra la probabilidad de P(E):\n",
    "    Encuentra la probabilidad de P(F):\n",
    "    Encuentra la probabilidad de P(E,F):\n",
    "    \n",
    "En el caso de P(E,F) el cuál podemos ver cómo P(E)*P(F) = P(E)P(F)\n",
    "\n",
    "    Lo que significa que si quiero obtener la probabilidad de que sucedan dos cosas juntas, eso sería lo mismo que multiplicar sus probabilidades individuales\n"
   ]
  },
  {
   "cell_type": "markdown",
   "metadata": {},
   "source": [
    "Ahora, comparemos el resultado de la primer parte con el resultado de: P (E | F) = P (E, F) / P (F).\n",
    "\n",
    "    Si ambos resultados no se aproximan entre ellos, revisa tus resultados."
   ]
  },
  {
   "cell_type": "markdown",
   "metadata": {},
   "source": [
    "Resultados aproximados esperados\n",
    "\n",
    "    PEF = 0.299..."
   ]
  },
  {
   "cell_type": "markdown",
   "metadata": {},
   "source": [
    "### Otro ejercicio de probabilidad condicional"
   ]
  },
  {
   "cell_type": "code",
   "execution_count": 15,
   "metadata": {},
   "outputs": [],
   "source": [
    "from numpy import random \n",
    "random.seed(0) \n",
    " \n",
    "totals = {20:0, 30:0, 40:0, 50:0, 60:0, 70:0} \n",
    "purchases = {20:0, 30:0, 40:0, 50:0, 60:0, 70:0} \n",
    "totalPurchases = 0 \n",
    "for _ in range(100000): \n",
    "    ageDecade = random.choice([20, 30, 40, 50, 60, 70]) \n",
    "    purchaseProbability = 0.4 \n",
    "    totals[ageDecade] += 1 \n",
    "    if (random.random() < purchaseProbability): \n",
    "        totalPurchases += 1 \n",
    "        purchases[ageDecade] += 1 "
   ]
  },
  {
   "cell_type": "markdown",
   "metadata": {},
   "source": [
    "Modifíquelo para que en realidad no tenga una dependencia entre las compras y la edad. "
   ]
  },
  {
   "cell_type": "markdown",
   "metadata": {},
   "source": [
    "Puntos Extra: Haga que eso también sea una oportunidad distribuida uniformemente. "
   ]
  },
  {
   "cell_type": "markdown",
   "metadata": {},
   "source": [
    "Vea lo que eso le hace a sus resultados.\n",
    "\n",
    "¿Termina con una probabilidad condicional muy diferente de tener 30 años y comprar algo frente a la probabilidad general de comprar algo?\n",
    "\n",
    "¿Qué le dice eso sobre sus datos y la relación entre esos dos atributos diferentes?\n",
    "\n",
    "Continúe e intente eso, y asegúrese de que realmente pueda obtener algunos resultados de estos datos y comprender lo que está sucediendo, y analizaremos una solución en clase."
   ]
  },
  {
   "cell_type": "code",
   "execution_count": null,
   "metadata": {},
   "outputs": [],
   "source": []
  }
 ],
 "metadata": {
  "kernelspec": {
   "display_name": "Python 3",
   "language": "python",
   "name": "python3"
  },
  "language_info": {
   "codemirror_mode": {
    "name": "ipython",
    "version": 3
   },
   "file_extension": ".py",
   "mimetype": "text/x-python",
   "name": "python",
   "nbconvert_exporter": "python",
   "pygments_lexer": "ipython3",
   "version": "3.8.5"
  }
 },
 "nbformat": 4,
 "nbformat_minor": 4
}
