{
 "cells": [
  {
   "cell_type": "markdown",
   "metadata": {},
   "source": [
    "# Pruebas de hipótesis"
   ]
  },
  {
   "cell_type": "markdown",
   "metadata": {},
   "source": [
    "El Instituto Nacional de Salud Mental publicó un artículo que indica que en cualquier período de un año, \n",
    "aproximadamente el 9.5 por ciento de los adultos estadounidenses sufren depresión o una enfermedad depresiva.\n",
    "Supongamos que en una encuesta de 100 personas en una determinada ciudad, siete de ellas sufrieron depresión \n",
    "o una enfermedad depresiva."
   ]
  },
  {
   "cell_type": "markdown",
   "metadata": {},
   "source": [
    "Realice una prueba de hipótesis para determinar si la verdadera proporción de personas en esa ciudad \n",
    "que padecen depresión o una enfermedad depresiva es menor que el porcentaje de la población estadounidense \n",
    "adulta en general."
   ]
  },
  {
   "cell_type": "markdown",
   "metadata": {},
   "source": [
    "¿Es esta una prueba de una media o proporción?"
   ]
  },
  {
   "cell_type": "markdown",
   "metadata": {},
   "source": [
    "Enuncie las hipótesis nula y alternativa."
   ]
  },
  {
   "cell_type": "markdown",
   "metadata": {},
   "source": [
    "H0: ______________________________________ Ha: ______________________________________"
   ]
  },
  {
   "cell_type": "markdown",
   "metadata": {},
   "source": [
    "¿Es esta una prueba de cola derecha, izquierda o de dos colas?\n",
    "\n",
    "¿Qué símbolo representa la variable aleatoria para esta prueba?"
   ]
  },
  {
   "cell_type": "markdown",
   "metadata": {},
   "source": [
    "En palabras, defina la variable aleatoria para esta prueba.\n",
    "\n",
    "Calcule lo siguiente:\n",
    "\n",
    "x = _____________\n",
    "\n",
    "n = _____________\n",
    "\n",
    "p '= _____________\n",
    "\n",
    "\n",
    "Calcule σx = __________"
   ]
  },
  {
   "cell_type": "markdown",
   "metadata": {},
   "source": [
    "Muestre la configuración de la fórmula."
   ]
  },
  {
   "cell_type": "markdown",
   "metadata": {},
   "source": [
    "Indique la distribución que se utilizará para la prueba de hipótesis.\n",
    "Encuentra el valor p."
   ]
  },
  {
   "cell_type": "markdown",
   "metadata": {},
   "source": [
    "En un α = 0.05 preconcebido, cuál es tu:"
   ]
  },
  {
   "cell_type": "markdown",
   "metadata": {},
   "source": [
    "Decisión:"
   ]
  },
  {
   "cell_type": "markdown",
   "metadata": {},
   "source": [
    "Razón de la decisión:"
   ]
  },
  {
   "cell_type": "markdown",
   "metadata": {},
   "source": [
    "Conclusión (escribir en una oración completa):"
   ]
  },
  {
   "cell_type": "code",
   "execution_count": null,
   "metadata": {},
   "outputs": [],
   "source": []
  }
 ],
 "metadata": {
  "kernelspec": {
   "display_name": "Python 3",
   "language": "python",
   "name": "python3"
  },
  "language_info": {
   "codemirror_mode": {
    "name": "ipython",
    "version": 3
   },
   "file_extension": ".py",
   "mimetype": "text/x-python",
   "name": "python",
   "nbconvert_exporter": "python",
   "pygments_lexer": "ipython3",
   "version": "3.8.5"
  }
 },
 "nbformat": 4,
 "nbformat_minor": 4
}
