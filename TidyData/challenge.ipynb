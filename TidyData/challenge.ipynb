{
 "cells": [
  {
   "cell_type": "markdown",
   "metadata": {},
   "source": [
    "# Challenge: Billboard Top 100 dataset\n",
    "Este conjunto de datos representa la clasificación semanal de las canciones desde el momento en que ingresan al Billboard Top 100 hasta las 75 semanas siguientes.\n",
    "\n",
    "### Problemas:\n",
    "- Los encabezados de las columnas se componen de valores: el número de semana (x1st.week,…)\n",
    "- Si una canción está en el Top 100 durante menos de 75 semanas, las columnas restantes se llenan con los valores faltantes."
   ]
  },
  {
   "cell_type": "code",
   "execution_count": null,
   "metadata": {},
   "outputs": [],
   "source": [
    "import pandas as pd"
   ]
  },
  {
   "cell_type": "markdown",
   "metadata": {},
   "source": [
    "Vamos a importar los datos y a mostrar las primeras 10 filas. ¿Puedes notar cuáles columnas tiene valores en lugar nombres en sus variables?"
   ]
  },
  {
   "cell_type": "code",
   "execution_count": null,
   "metadata": {},
   "outputs": [],
   "source": [
    "df = pd.read_csv(\"data/billboard.csv\", encoding=\"mac_latin2\")\n",
    "df.head(10)"
   ]
  },
  {
   "cell_type": "markdown",
   "metadata": {},
   "source": [
    "## 1. Los encabezados de las columnas se componen de valores: el número de semana (x1st.week,…)"
   ]
  },
  {
   "cell_type": "markdown",
   "metadata": {},
   "source": [
    "Recuerda que el melting es una técnica utilizada cuando un conjunto de columnas con las que contamos corresponden a una misma variable, de tal manera que dichos nombres pasarán a ser valores dentro de una misma columna y sus valores en las celdas también serán almacenados en otra columna contigua."
   ]
  },
  {
   "cell_type": "markdown",
   "metadata": {},
   "source": [
    "Intrucciones: En el siguiente bloque de código realiza lo siguiente.\n",
    "- Crea una lista con los nombres de las columnas que cumplen el criterio de Tidy Data (el nombre de la columna es una variable y no un valor) y almacénala en **id_vars**\n",
    "- Asigna al argumento **var_name** el nombre \"week\"\n",
    "- Asigna al argumento **value_name** el nombre \"rank\""
   ]
  },
  {
   "cell_type": "code",
   "execution_count": null,
   "metadata": {},
   "outputs": [],
   "source": [
    "# Melting\n",
    "id_vars = []\n",
    "\n",
    "df = pd.melt(frame=df,id_vars=id_vars, var_name=\"\", value_name=\"\")\n",
    "df"
   ]
  },
  {
   "cell_type": "markdown",
   "metadata": {},
   "source": [
    "¿Qué es lo que contiene la columna \"week\"? ¿Qué es lo que contiene la columna \"rank\"?"
   ]
  },
  {
   "cell_type": "markdown",
   "metadata": {},
   "source": [
    "### ¡Genial! Ya has convertido los nombres de esas columnas en valores, has cumplido un principio básico de tidy data."
   ]
  },
  {
   "cell_type": "markdown",
   "metadata": {},
   "source": [
    "![image.png](https://i.pinimg.com/474x/e7/fe/41/e7fe410c017990839d8ef66f31f4ebe6.jpg)"
   ]
  },
  {
   "cell_type": "markdown",
   "metadata": {},
   "source": [
    "Bueno, todavía no hemos terminado, fíjate en los valores en la columna \"week\".\n",
    "Imagina que permites al usuario ingresar un número para filtrar las observaciones y obtener únicamente las canciones que estuvieron en Billboard 50 semanas pero el parámetro lógicamente será un número, ¿no le pedirías al usuario que escriba \"x50th.week\" como parámetro de entrada, verdad?... ¡¿verdad?! D:\n",
    "\n",
    "Limpiemos un poco más esos datos :D"
   ]
  },
  {
   "cell_type": "markdown",
   "metadata": {},
   "source": [
    "Intrucciones: En el siguiente bloque de código realiza lo siguiente.\n",
    "- Utiliza el método [extract de str](https://pandas.pydata.org/pandas-docs/stable/reference/api/pandas.Series.str.extract.html) sobre la columna **week** y pásale como primer argumento la expresión *(\\d+)*. Lo que hará, será extraer solo los número dentro de cada valor. Increíble, ¿no?. Puntos extra: ¿Puedes explicar qué hizo la expresión *(\\d+)*?\n",
    "- Utiliza [.astype](https://pandas.pydata.org/pandas-docs/stable/reference/api/pandas.DataFrame.astype.html) para convertir la columa entera a **integer**"
   ]
  },
  {
   "cell_type": "code",
   "execution_count": null,
   "metadata": {},
   "outputs": [],
   "source": [
    "# Formatting\n",
    "df[\"week\"] = df['week'] # Escribe aquí el código para realizar la extracción de caracteres y la conversión \n",
    "df[\"week\"] "
   ]
  },
  {
   "cell_type": "markdown",
   "metadata": {},
   "source": [
    "### Uff, lo anterior fue un poco más complicado pero, ¡lo lograste!\n",
    "Vamos entonces con lo siguiente:\n",
    "- Vamos a eliminar las filas con NA en sus celdas. Utiliza .dropna(), por ahora así, a capela, pero te dejo la [documentación](https://pandas.pydata.org/pandas-docs/stable/reference/api/pandas.DataFrame.dropna.html) por acá para casos más \"especiales\"."
   ]
  },
  {
   "cell_type": "code",
   "execution_count": null,
   "metadata": {},
   "outputs": [],
   "source": [
    "df = df.dropna()\n",
    "df"
   ]
  },
  {
   "cell_type": "markdown",
   "metadata": {},
   "source": [
    "¿Recuerdas que alteramos la columna **week**? Bueno, vamos a quedarnos con ella y con las columnas que nos interesan. Vamos a reasignar el data frame original.\n",
    "Solo nos falta una columna, ¿cuál es?"
   ]
  },
  {
   "cell_type": "code",
   "execution_count": null,
   "metadata": {},
   "outputs": [],
   "source": [
    "df = df[[\"year\", \n",
    "         \"artist.inverted\",\n",
    "         \"track\",\n",
    "         \"time\",\n",
    "         \"genre\",\n",
    "         \"____\",\n",
    "         \"rank\",\n",
    "         \"date.entered\"]]\n",
    "df = df.sort_values(ascending=True, by=[\"year\",\"artist.inverted\",\"track\",\"week\",\"rank\"])"
   ]
  },
  {
   "cell_type": "code",
   "execution_count": null,
   "metadata": {},
   "outputs": [],
   "source": [
    "# Assigning the tidy dataset to a variable for future usage\n",
    "billboard = df\n",
    "\n",
    "billboard.head(10)"
   ]
  }
 ],
 "metadata": {
  "kernelspec": {
   "display_name": "Python 3",
   "language": "python",
   "name": "python3"
  },
  "language_info": {
   "codemirror_mode": {
    "name": "ipython",
    "version": 3
   },
   "file_extension": ".py",
   "mimetype": "text/x-python",
   "name": "python",
   "nbconvert_exporter": "python",
   "pygments_lexer": "ipython3",
   "version": "3.8.5"
  }
 },
 "nbformat": 4,
 "nbformat_minor": 4
}
