{
 "cells": [
  {
   "cell_type": "markdown",
   "id": "6793219d",
   "metadata": {},
   "source": [
    "# Ejercicio 1"
   ]
  },
  {
   "cell_type": "code",
   "execution_count": 1,
   "id": "564fc511",
   "metadata": {},
   "outputs": [],
   "source": [
    "# Realizar una función que compare e indique cual es mayor o mas fuerte de las evoluciones de Pikachu."
   ]
  },
  {
   "cell_type": "markdown",
   "id": "6d8f8d44",
   "metadata": {},
   "source": [
    "# Evoluciones: ['Pichu', 'Pikachu', 'Raichu']"
   ]
  },
  {
   "cell_type": "code",
   "execution_count": null,
   "id": "97b61aa8",
   "metadata": {},
   "outputs": [],
   "source": [
    "# Pikachu (2)  es mas fuerte que  Pichu (1)\n",
    "# Raichu (3) es más fuerte que Pikachu (2)"
   ]
  },
  {
   "cell_type": "code",
   "execution_count": 2,
   "id": "2562b49b",
   "metadata": {},
   "outputs": [],
   "source": [
    "def razonamiento_automatico(nombre_a, peso_a ,nombre_b, peso_b,nombre_c,peso_c):\n",
    "    \n"
   ]
  },
  {
   "cell_type": "code",
   "execution_count": 3,
   "id": "31b594e1",
   "metadata": {},
   "outputs": [],
   "source": [
    "# No retornar nada, solo imprimir"
   ]
  },
  {
   "cell_type": "code",
   "execution_count": 4,
   "id": "e6163270",
   "metadata": {},
   "outputs": [
    {
     "name": "stdout",
     "output_type": "stream",
     "text": [
      "Pikachu es más fuerte que Pichu\n",
      "Raichu es más fuerte que Pikachu\n"
     ]
    }
   ],
   "source": [
    "razonamiento_automatico()"
   ]
  },
  {
   "cell_type": "markdown",
   "id": "6f2a5991",
   "metadata": {},
   "source": [
    "# Ejercicio 2"
   ]
  },
  {
   "cell_type": "code",
   "execution_count": 5,
   "id": "53486f69",
   "metadata": {},
   "outputs": [],
   "source": [
    "def razonamiento_automatico(nombre_a, peso_a ,nombre_b, peso_b,nombre_c,peso_c):\n",
    "    \n",
    "\n",
    "        \n",
    "    return () # retornar una lista con las evoluciones de pikachu"
   ]
  },
  {
   "cell_type": "code",
   "execution_count": 6,
   "id": "ec8b2154",
   "metadata": {},
   "outputs": [],
   "source": [
    "# Imprimir la comparación Retornar una lista con los nombres enviados y dejarlo en una variable"
   ]
  },
  {
   "cell_type": "code",
   "execution_count": 7,
   "id": "37e832a0",
   "metadata": {},
   "outputs": [
    {
     "name": "stdout",
     "output_type": "stream",
     "text": [
      "Pikachu es más fuerte que Pichu\n",
      "Raichu es más fuerte que Pikachu\n"
     ]
    }
   ],
   "source": [
    "variable=razonamiento_automatico()"
   ]
  },
  {
   "cell_type": "code",
   "execution_count": 8,
   "id": "41134131",
   "metadata": {},
   "outputs": [
    {
     "data": {
      "text/plain": [
       "['Pichu', 'Pikachu', 'Raichu']"
      ]
     },
     "execution_count": 8,
     "metadata": {},
     "output_type": "execute_result"
    }
   ],
   "source": [
    "variable"
   ]
  },
  {
   "cell_type": "code",
   "execution_count": null,
   "id": "cb8fa10f",
   "metadata": {},
   "outputs": [],
   "source": []
  }
 ],
 "metadata": {
  "kernelspec": {
   "display_name": "Python 3 (ipykernel)",
   "language": "python",
   "name": "python3"
  },
  "language_info": {
   "codemirror_mode": {
    "name": "ipython",
    "version": 3
   },
   "file_extension": ".py",
   "mimetype": "text/x-python",
   "name": "python",
   "nbconvert_exporter": "python",
   "pygments_lexer": "ipython3",
   "version": "3.7.6"
  }
 },
 "nbformat": 4,
 "nbformat_minor": 5
}
