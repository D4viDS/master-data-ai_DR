{
 "cells": [
  {
   "cell_type": "markdown",
   "metadata": {},
   "source": [
    "\n",
    "# Singular Value Decomposition o  pa la banda Descomposición de Valores Singulares\n",
    "\n",
    "#### La SVD nos ayuda a descomponer una matriz no cuadrada!! 👌🏼\n",
    "\n",
    "### Nos va a dar como resultado 3 matrices $U$, $D$, $V$\n",
    "\n",
    "#### Donde $U$ y $V$ son matrices que pueden ser o no cuadradas y no afuerza de las mimas dimensiones\n",
    "#### $U$ Una matriz de _**Rotación**_ con valores singulares izquierdos\n",
    "#### $V$ Otra matriz de _**Rotación**_ con valor4es singulares derechos\n",
    "#### $D$ es una matriz Diagonal, con todos los _**Valores singulares que calculamos**_\n",
    "\n",
    "\n",
    "El resultado sería una matriz M que se obtiene de $U · D · V$\n",
    "\n",
    "·····\n",
    "\n",
    "\n",
    "\n",
    "![svd](https://miro.medium.com/max/700/1*6wkgGgBy2NLVmRVOw8K86w.png)\n"
   ]
  },
  {
   "cell_type": "code",
   "execution_count": 63,
   "metadata": {},
   "outputs": [],
   "source": [
    "import pandas as pd\n",
    "import numpy as np\n",
    "import matplotlib.pyplot as plt"
   ]
  },
  {
   "cell_type": "code",
   "execution_count": 77,
   "metadata": {},
   "outputs": [
    {
     "data": {
      "text/plain": [
       "array([[1, 2, 3],\n",
       "       [3, 4, 5]])"
      ]
     },
     "execution_count": 77,
     "metadata": {},
     "output_type": "execute_result"
    }
   ],
   "source": [
    "LOKI = np.array([[1,2,3],[3,4,5]])\n",
    "LOKI"
   ]
  },
  {
   "cell_type": "code",
   "execution_count": 78,
   "metadata": {},
   "outputs": [],
   "source": [
    "U,D,V = np.linalg.svd(LOKI)"
   ]
  },
  {
   "cell_type": "code",
   "execution_count": 74,
   "metadata": {},
   "outputs": [
    {
     "data": {
      "text/plain": [
       "array([[-0.46410668, -0.88577931],\n",
       "       [-0.88577931,  0.46410668]])"
      ]
     },
     "execution_count": 74,
     "metadata": {},
     "output_type": "execute_result"
    }
   ],
   "source": [
    "U"
   ]
  },
  {
   "cell_type": "code",
   "execution_count": 71,
   "metadata": {},
   "outputs": [
    {
     "data": {
      "text/plain": [
       "array([[7.97638869, 0.        ],\n",
       "       [0.        , 0.61418515]])"
      ]
     },
     "execution_count": 71,
     "metadata": {},
     "output_type": "execute_result"
    }
   ],
   "source": [
    "D_diag = np.diag(D)\n",
    "D_diag"
   ]
  },
  {
   "cell_type": "code",
   "execution_count": 72,
   "metadata": {},
   "outputs": [
    {
     "data": {
      "text/plain": [
       "array([[-0.39133557, -0.5605708 , -0.72980603],\n",
       "       [ 0.8247362 ,  0.13817999, -0.54837623],\n",
       "       [ 0.40824829, -0.81649658,  0.40824829]])"
      ]
     },
     "execution_count": 72,
     "metadata": {},
     "output_type": "execute_result"
    }
   ],
   "source": [
    "V"
   ]
  },
  {
   "cell_type": "code",
   "execution_count": null,
   "metadata": {},
   "outputs": [],
   "source": [
    "U.dot(D_diag).dot(V)"
   ]
  },
  {
   "cell_type": "code",
   "execution_count": 84,
   "metadata": {},
   "outputs": [],
   "source": [
    "def SVD(A):\n",
    "    U,D,V = np.linalg.svd(A)\n",
    "    D = np.diag(D)\n",
    "    \n",
    "    if D.shape[1] != V.shape[0]:\n",
    "        n_columns = np.abs(D.shape[0]-V.shape[0])\n",
    "        extend = np.zeros(( D.shape[0] , n_columns ))\n",
    "        D = np.append(D, extend, axis=1)\n",
    "    return U,D,V"
   ]
  },
  {
   "cell_type": "code",
   "execution_count": 85,
   "metadata": {},
   "outputs": [
    {
     "data": {
      "text/plain": [
       "array([[1., 2., 3.],\n",
       "       [3., 4., 5.]])"
      ]
     },
     "execution_count": 85,
     "metadata": {},
     "output_type": "execute_result"
    }
   ],
   "source": [
    "U = SVD(LOKI)[0]\n",
    "V = SVD(LOKI)[2]\n",
    "D = SVD(LOKI)[1]\n",
    "U.dot(D).dot(V)"
   ]
  },
  {
   "cell_type": "code",
   "execution_count": 89,
   "metadata": {},
   "outputs": [
    {
     "data": {
      "text/plain": [
       "array([[1, 2, 3, 1],\n",
       "       [3, 2, 1, 3],\n",
       "       [1, 3, 3, 2]])"
      ]
     },
     "execution_count": 89,
     "metadata": {},
     "output_type": "execute_result"
    }
   ],
   "source": [
    "B = np.random.randint(1, 5, size=(3,4))\n",
    "B"
   ]
  },
  {
   "cell_type": "code",
   "execution_count": 90,
   "metadata": {},
   "outputs": [
    {
     "data": {
      "text/plain": [
       "array([[1., 2., 3., 1.],\n",
       "       [3., 2., 1., 3.],\n",
       "       [1., 3., 3., 2.]])"
      ]
     },
     "execution_count": 90,
     "metadata": {},
     "output_type": "execute_result"
    }
   ],
   "source": [
    "U = SVD(B)[0]\n",
    "V = SVD(B)[2]\n",
    "D = SVD(B)[1]\n",
    "U.dot(D).dot(V)"
   ]
  },
  {
   "cell_type": "code",
   "execution_count": 86,
   "metadata": {},
   "outputs": [
    {
     "data": {
      "text/plain": [
       "array([[1. , 1.5],\n",
       "       [0. , 1. ]])"
      ]
     },
     "execution_count": 86,
     "metadata": {},
     "output_type": "execute_result"
    }
   ],
   "source": [
    "proof = np.array([[1, 1.5],[0, 1]])\n",
    "proof"
   ]
  },
  {
   "cell_type": "code",
   "execution_count": 91,
   "metadata": {},
   "outputs": [
    {
     "data": {
      "text/plain": [
       "(array([[ 0.89442719, -0.4472136 ],\n",
       "        [ 0.4472136 ,  0.89442719]]),\n",
       " array([[2. , 0. ],\n",
       "        [0. , 0.5]]),\n",
       " array([[ 0.4472136 ,  0.89442719],\n",
       "        [-0.89442719,  0.4472136 ]]))"
      ]
     },
     "execution_count": 91,
     "metadata": {},
     "output_type": "execute_result"
    }
   ],
   "source": [
    "U, D, V = np.linalg.svd(proof)\n",
    "diagonal = np.diag(D)\n",
    "U, diagonal, V"
   ]
  },
  {
   "cell_type": "code",
   "execution_count": 88,
   "metadata": {},
   "outputs": [
    {
     "data": {
      "text/plain": [
       "array([[1. , 1.5],\n",
       "       [0. , 1. ]])"
      ]
     },
     "execution_count": 88,
     "metadata": {},
     "output_type": "execute_result"
    }
   ],
   "source": [
    "U.dot(diagonal).dot(V)"
   ]
  },
  {
   "cell_type": "code",
   "execution_count": null,
   "metadata": {},
   "outputs": [],
   "source": [
    "from matplotlib.patches import Polygon\n",
    "def plot_transformation(P_before, P_after, text_before, text_after, axis = [0, 5, 0, 4], arrows=False):\n",
    "    if arrows:\n",
    "        for vector_before, vector_after in zip(P_before.T, P_after.T):\n",
    "            plot_vector2d(vector_before, color=\"blue\", linestyle=\"--\")\n",
    "            plot_vector2d(vector_after, color=\"red\", linestyle=\"-\")\n",
    "    plt.gca().add_artist(Polygon(P_before.T, alpha=0.2))\n",
    "    plt.gca().add_artist(Polygon(P_after.T, alpha=0.3, color=\"r\"))\n",
    "    plt.text(P_before[0].mean(), P_before[1].mean(), text_before, fontsize=18, color=\"blue\")\n",
    "    plt.text(P_after[0].mean(), P_after[1].mean(), text_after, fontsize=18, color=\"red\")\n",
    "    plt.axis(axis)\n",
    "    plt.grid()"
   ]
  },
  {
   "cell_type": "code",
   "execution_count": 92,
   "metadata": {},
   "outputs": [
    {
     "data": {
      "text/plain": [
       "array([[0, 0, 1, 1],\n",
       "       [0, 1, 1, 0]])"
      ]
     },
     "execution_count": 92,
     "metadata": {},
     "output_type": "execute_result"
    }
   ],
   "source": [
    "Square = np.array([\n",
    "        [0, 0, 1, 1],\n",
    "        [0, 1, 1, 0]\n",
    "    ])\n",
    "Square"
   ]
  },
  {
   "cell_type": "code",
   "execution_count": 93,
   "metadata": {},
   "outputs": [],
   "source": [
    "def plot_vector(vector, origin=[0, 0], **options):\n",
    "    return plt.arrow(origin[0], origin[1], vector[0], vector[1],\n",
    "              head_width=0.2, head_length=0.3, length_includes_head=True,\n",
    "              **options)"
   ]
  },
  {
   "cell_type": "code",
   "execution_count": 94,
   "metadata": {},
   "outputs": [
    {
     "data": {
      "text/plain": [
       "<matplotlib.patches.FancyArrow at 0x11d1ddca0>"
      ]
     },
     "execution_count": 94,
     "metadata": {},
     "output_type": "execute_result"
    },
    {
     "data": {
      "image/png": "[encoded data removed]",
      "text/plain": [
       "<Figure size 432x288 with 1 Axes>"
      ]
     },
     "metadata": {
      "needs_background": "light"
     },
     "output_type": "display_data"
    }
   ],
   "source": [
    "plot_vector(Square[0].flatten(), color=\"r\")\n",
    "plot_vector(Square[1].flatten(), color=\"r\")"
   ]
  },
  {
   "cell_type": "code",
   "execution_count": null,
   "metadata": {},
   "outputs": [],
   "source": [
    "plot_transformation(Square, V.dot(Square), \"$Square$\", \"$V^T \\cdot Square$\",\n",
    "                    axis=[-0.5, 3.5 , -1.5, 1.5])\n",
    "plt.show()"
   ]
  },
  {
   "cell_type": "code",
   "execution_count": null,
   "metadata": {},
   "outputs": [],
   "source": [
    "plot_transformation(V.dot(Square), diagonal.dot(V).dot(Square), \"$V^T \\cdot Square$\", \"$\\Sigma \\cdot V^T \\cdot Square$\",\n",
    "                    axis=[-0.5, 3.5 , -1.5, 1.5])\n",
    "plt.show()"
   ]
  },
  {
   "cell_type": "code",
   "execution_count": null,
   "metadata": {},
   "outputs": [],
   "source": [
    "plot_transformation(diagonal.dot(V).dot(Square), U.dot(diagonal).dot(V).dot(Square),\"$\\Sigma \\cdot V^T \\cdot Square$\", \"$U \\cdot \\Sigma \\cdot V^T \\cdot Square$\",\n",
    "                    axis=[-0.5, 3.5 , -1.5, 1.5])\n",
    "plt.show()"
   ]
  },
  {
   "cell_type": "markdown",
   "metadata": {},
   "source": [
    "## MUCHO SVD!!!\n",
    "\n",
    "\n",
    "![Algebra Lineal](data:image/jpeg;base64,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)"
   ]
  },
  {
   "cell_type": "code",
   "execution_count": null,
   "metadata": {},
   "outputs": [],
   "source": [
    "!pip install surprise"
   ]
  },
  {
   "cell_type": "code",
   "execution_count": null,
   "metadata": {},
   "outputs": [],
   "source": [
    "from surprise import SVDpp\n",
    "from surprise import Dataset, Reader\n",
    "from surprise.model_selection import train_test_split\n",
    "from surprise import accuracy\n",
    "from collections import defaultdict"
   ]
  },
  {
   "cell_type": "code",
   "execution_count": 64,
   "metadata": {},
   "outputs": [],
   "source": [
    "movies = pd.read_csv('movies.csv')\n",
    "ratings = pd.read_csv('ratings.csv')\n",
    "df_movies = ratings.merge(movies, on=\"movieId\", how=\"left\")"
   ]
  },
  {
   "cell_type": "code",
   "execution_count": null,
   "metadata": {},
   "outputs": [],
   "source": [
    "df_movies"
   ]
  },
  {
   "cell_type": "code",
   "execution_count": null,
   "metadata": {},
   "outputs": [],
   "source": [
    "df_movies_to_model = df_movies[df_movies.columns[:-3]]\n",
    "df_movies_to_model"
   ]
  },
  {
   "cell_type": "code",
   "execution_count": 68,
   "metadata": {},
   "outputs": [],
   "source": [
    "## Obteniendo nuestros datos en el formato que queremos\n",
    "reader = Reader()\n",
    "data = Dataset.load_from_df(df_movies_to_model[df_movies.columns[:-3]], reader)"
   ]
  },
  {
   "attachments": {
    "bfca189a-9d31-421e-b363-adedaa39c095.png": {
     "image/png": "[encoded data removed]"
    },
    "d28b275a-d159-4c14-9f59-9c3abee4fe90.png": {
     "image/png": "[encoded data removed]"
    }
   },
   "cell_type": "markdown",
   "metadata": {},
   "source": [
    "![image.png](attachment:bfca189a-9d31-421e-b363-adedaa39c095.png)\n",
    "![image.png](attachment:d28b275a-d159-4c14-9f59-9c3abee4fe90.png)"
   ]
  },
  {
   "cell_type": "code",
   "execution_count": null,
   "metadata": {},
   "outputs": [],
   "source": [
    "print(data)"
   ]
  },
  {
   "cell_type": "code",
   "execution_count": null,
   "metadata": {},
   "outputs": [],
   "source": [
    "train, test = train_test_split(data, test_size=0.20)\n",
    "svd = SVDpp()"
   ]
  },
  {
   "cell_type": "code",
   "execution_count": null,
   "metadata": {},
   "outputs": [],
   "source": [
    "# Entrenando nuestros datos así llenos\n",
    "svd.fit(train)"
   ]
  },
  {
   "cell_type": "code",
   "execution_count": null,
   "metadata": {},
   "outputs": [],
   "source": [
    "preds = svd.test(test)\n",
    "preds"
   ]
  },
  {
   "cell_type": "code",
   "execution_count": null,
   "metadata": {},
   "outputs": [],
   "source": [
    "accuracy.mae(preds)"
   ]
  },
  {
   "cell_type": "code",
   "execution_count": null,
   "metadata": {},
   "outputs": [],
   "source": [
    "accuracy.rmse(preds)"
   ]
  },
  {
   "cell_type": "markdown",
   "metadata": {},
   "source": [
    "### Ahora si los datos a FULL"
   ]
  },
  {
   "cell_type": "code",
   "execution_count": 67,
   "metadata": {},
   "outputs": [
    {
     "data": {
      "text/plain": [
       "Prediction(uid=1, iid=1, r_ui=None, est=4.795707607243091, details={'was_impossible': False})"
      ]
     },
     "execution_count": 67,
     "metadata": {},
     "output_type": "execute_result"
    }
   ],
   "source": [
    "trainfull = data.build_full_trainset()\n",
    "\n",
    "svd = SVDpp()\n",
    "svd.fit(trainfull)\n",
    "\n",
    "svd.predict(uid=1, iid=1)"
   ]
  },
  {
   "cell_type": "markdown",
   "metadata": {},
   "source": [
    "### Creando la funcion de sistema de recomendaciones"
   ]
  },
  {
   "cell_type": "code",
   "execution_count": null,
   "metadata": {},
   "outputs": [],
   "source": [
    "def recommend_system(userId, dataframe, algorithm, n_commends):\n",
    "    \"\"\"\n",
    "with the parameters, returns back the top n recommends movies.\n",
    "\n",
    "Parameters\n",
    "-----------\n",
    "\n",
    "userId: the user ID of the person that we want recommendations\n",
    "\n",
    "dataframe: the DataFrame of movies.\n",
    "\n",
    "algorithm: the algorith used to recommend movies.\n",
    "\n",
    "n_commends: the number of movies recommended.\n",
    "\n",
    "\n",
    "return\n",
    "------\n",
    "\n",
    "ID of movies that a specific user will like.\n",
    "\n",
    "    \"\"\"\n",
    "    movie_ids = dataframe['movieId'].to_list()\n",
    "    movies_watched = dataframe[dataframe[\"userId\"] == userId][\"movieId\"]\n",
    "    movies_no_watched = [movie for movie in movie_ids if movie not in movies_watched]\n",
    "\n",
    "    preds = [algorithm.predict(uid=userId, iid=movie) for movie in movies_no_watched]\n",
    "    commends_ratting = {pred[1]:pred[3] for pred in preds}\n",
    "    order_dict = {k: v for k, v in sorted(commends_ratting.items(), key=lambda item: item[1])}\n",
    "\n",
    "    top_predictions = list(order_dict.keys())[:n_commends]\n",
    "\n",
    "    return dataframe[dataframe[\"movieId\"].isin(top_predictions)][[\"title\", \"genres\"]].drop_duplicates()"
   ]
  },
  {
   "cell_type": "code",
   "execution_count": 100,
   "metadata": {},
   "outputs": [
    {
     "name": "stdout",
     "output_type": "stream",
     "text": [
      "ID of the movies recommended:                                 title                   genres\n",
      "697    Stuart Saves His Family (1995)                   Comedy\n",
      "981                   Catwoman (2004)     Action|Crime|Fantasy\n",
      "2554   Speed 2: Cruise Control (1997)  Action|Romance|Thriller\n",
      "14369              Spice World (1997)                   Comedy\n",
      "26886                  Jason X (2002)   Horror|Sci-Fi|Thriller\n"
     ]
    }
   ],
   "source": [
    "movies_recommended = recommend_system(9, df_movies, svd, 5)\n",
    "print(\"ID of the movies recommended:\", movies_recommended)"
   ]
  },
  {
   "cell_type": "markdown",
   "metadata": {},
   "source": [
    "### Tiene sentido??"
   ]
  },
  {
   "cell_type": "code",
   "execution_count": 96,
   "metadata": {},
   "outputs": [],
   "source": [
    "def check_movies_user(userId, dataframe, n):\n",
    "    return dataframe[dataframe[\"userId\"] ==userId].sort_values(\"rating\", ascending=False)[:n]"
   ]
  },
  {
   "cell_type": "code",
   "execution_count": 101,
   "metadata": {},
   "outputs": [
    {
     "name": "stdout",
     "output_type": "stream",
     "text": [
      "Movies user likes:       userId  movieId  rating   timestamp  \\\n",
      "1111       9     5902     5.0  1044656934   \n",
      "1082       9     1198     5.0  1044656716   \n",
      "1112       9     5952     5.0  1044656908   \n",
      "1089       9     2300     5.0  1044657072   \n",
      "1103       9     5481     5.0  1044656836   \n",
      "\n",
      "                                                  title                genres  \n",
      "1111                                  Adaptation (2002)  Comedy|Drama|Romance  \n",
      "1082  Raiders of the Lost Ark (Indiana Jones and the...      Action|Adventure  \n",
      "1112      Lord of the Rings: The Two Towers, The (2002)     Adventure|Fantasy  \n",
      "1089                              Producers, The (1968)                Comedy  \n",
      "1103                 Austin Powers in Goldmember (2002)                Comedy  \n"
     ]
    }
   ],
   "source": [
    "print(f\"Movies user likes:\", check_movies_user(9, df_movies, 5))"
   ]
  }
 ],
 "metadata": {
  "kernelspec": {
   "display_name": "Python 3",
   "language": "python",
   "name": "python3"
  },
  "language_info": {
   "codemirror_mode": {
    "name": "ipython",
    "version": 3
   },
   "file_extension": ".py",
   "mimetype": "text/x-python",
   "name": "python",
   "nbconvert_exporter": "python",
   "pygments_lexer": "ipython3",
   "version": "3.8.5"
  }
 },
 "nbformat": 4,
 "nbformat_minor": 4
}
