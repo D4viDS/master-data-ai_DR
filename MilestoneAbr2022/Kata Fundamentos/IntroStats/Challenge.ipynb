{
 "cells": [
  {
   "cell_type": "markdown",
   "metadata": {},
   "source": [
    "# Challenge"
   ]
  },
  {
   "cell_type": "markdown",
   "metadata": {},
   "source": [
    "El Instituto Nacional de Salud Mental publicó un artículo que indica que en cualquier período de un año, \n",
    "aproximadamente el 9.5 por ciento de los adultos estadounidenses sufren depresión o una enfermedad depresiva.\n",
    "Supongamos que en una encuesta de 100 personas en una determinada ciudad, siete de ellas sufrieron depresión \n",
    "o una enfermedad depresiva."
   ]
  },
  {
   "cell_type": "markdown",
   "metadata": {},
   "source": [
    "Realice una prueba de hipótesis para determinar si la verdadera proporción de personas en esa ciudad \n",
    "que padecen depresión o una enfermedad depresiva es menor que el porcentaje de la población estadounidense \n",
    "adulta en general."
   ]
  },
  {
   "cell_type": "markdown",
   "metadata": {},
   "source": [
    "# Resuelve siguiendo los pasos a continuación"
   ]
  },
  {
   "cell_type": "markdown",
   "metadata": {},
   "source": [
    "## Paso 0:"
   ]
  },
  {
   "cell_type": "markdown",
   "metadata": {},
   "source": [
    "- ¿Es esta una prueba de una media o proporción?"
   ]
  },
  {
   "cell_type": "markdown",
   "metadata": {},
   "source": [
    "## Paso 1: Determinar la hipótesis nula y las hipótesis alternativasEncuentra el valor p."
   ]
  },
  {
   "cell_type": "markdown",
   "metadata": {},
   "source": [
    "- Enuncie las hipótesis nula y alternativa. Hágalo como un enunciado y como una expresión matemática."
   ]
  },
  {
   "cell_type": "markdown",
   "metadata": {},
   "source": [
    "H0: ______________________________________ H1: ______________________________________"
   ]
  },
  {
   "cell_type": "markdown",
   "metadata": {},
   "source": [
    "## Paso 2: Calcular la proporción de la población"
   ]
  },
  {
   "cell_type": "code",
   "execution_count": null,
   "metadata": {},
   "outputs": [],
   "source": []
  },
  {
   "cell_type": "markdown",
   "metadata": {},
   "source": [
    "## Paso 3: Calculando el test estadístico"
   ]
  },
  {
   "cell_type": "code",
   "execution_count": null,
   "metadata": {},
   "outputs": [],
   "source": []
  },
  {
   "cell_type": "markdown",
   "metadata": {},
   "source": [
    "## Paso 4: Calcule el valor p"
   ]
  },
  {
   "cell_type": "code",
   "execution_count": null,
   "metadata": {},
   "outputs": [],
   "source": []
  },
  {
   "cell_type": "markdown",
   "metadata": {},
   "source": [
    "## Paso 5: inferir la conclusión del valor p"
   ]
  },
  {
   "cell_type": "markdown",
   "metadata": {},
   "source": [
    "Si el nivel de significancia es α = 0.05, cuál es tu:"
   ]
  },
  {
   "cell_type": "markdown",
   "metadata": {},
   "source": [
    "- Decisión:"
   ]
  },
  {
   "cell_type": "markdown",
   "metadata": {},
   "source": [
    "- Razón de la decisión:"
   ]
  },
  {
   "cell_type": "markdown",
   "metadata": {},
   "source": [
    "- Conclusión (escribir en una oración completa):"
   ]
  },
  {
   "cell_type": "markdown",
   "metadata": {},
   "source": [
    "- PREGUNTA BONUS: ¿Es esta una prueba de cola derecha, izquierda o de dos colas?"
   ]
  }
 ],
 "metadata": {
  "kernelspec": {
   "display_name": "Python 3",
   "language": "python",
   "name": "python3"
  },
  "language_info": {
   "codemirror_mode": {
    "name": "ipython",
    "version": 3
   },
   "file_extension": ".py",
   "mimetype": "text/x-python",
   "name": "python",
   "nbconvert_exporter": "python",
   "pygments_lexer": "ipython3",
   "version": "3.8.5"
  }
 },
 "nbformat": 4,
 "nbformat_minor": 4
}
