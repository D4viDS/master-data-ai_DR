{
  "nbformat": 4,
  "nbformat_minor": 0,
  "metadata": {
    "kernelspec": {
      "display_name": "scraping",
      "language": "python",
      "name": "scraping"
    },
    "language_info": {
      "codemirror_mode": {
        "name": "ipython",
        "version": 3
      },
      "file_extension": ".py",
      "mimetype": "text/x-python",
      "name": "python",
      "nbconvert_exporter": "python",
      "pygments_lexer": "ipython3",
      "version": "3.8.3"
    },
    "latex_envs": {
      "LaTeX_envs_menu_present": true,
      "autoclose": false,
      "autocomplete": true,
      "bibliofile": "biblio.bib",
      "cite_by": "apalike",
      "current_citInitial": 1,
      "eqLabelWithNumbers": true,
      "eqNumInitial": 1,
      "hotkeys": {
        "equation": "Ctrl-E",
        "itemize": "Ctrl-I"
      },
      "labels_anchors": false,
      "latex_user_defs": false,
      "report_style_numbering": false,
      "user_envs_cfg": false
    },
    "toc": {
      "base_numbering": 1,
      "nav_menu": {},
      "number_sections": true,
      "sideBar": true,
      "skip_h1_title": false,
      "title_cell": "Table of Contents",
      "title_sidebar": "Contents",
      "toc_cell": false,
      "toc_position": {},
      "toc_section_display": true,
      "toc_window_display": false
    },
    "colab": {
      "name": "Introduccion_a_Faker.ipynb",
      "provenance": [],
      "collapsed_sections": []
    }
  },
  "cells": [
    {
      "cell_type": "markdown",
      "metadata": {
        "id": "9uf6q0mL5iNe"
      },
      "source": [
        "# Tutorial Introductorio de Faker\n",
        "Faker es un paquete en Python que genera datos falsos por ti. Tiene la habilidad de imprimir/obtener un montón de datos falsos, por ejemplo, puede imprimir un nombre, dirección, correo, texto, etcétera.\n",
        "\n",
        "Primero que nada, vamos a instalar desde una celda el paquete con la siguiente línea:"
      ]
    },
    {
      "cell_type": "code",
      "metadata": {
        "ExecuteTime": {
          "end_time": "2020-07-31T17:29:16.041864Z",
          "start_time": "2020-07-31T17:29:13.387104Z"
        },
        "id": "mpgmsOJO5iNi",
        "colab": {
          "base_uri": "https://localhost:8080/"
        },
        "outputId": "c58d3a86-7624-4db4-f29f-5a00c6ffa801"
      },
      "source": [
        "!pip install Faker"
      ],
      "execution_count": 6,
      "outputs": [
        {
          "output_type": "stream",
          "text": [
            "Collecting Faker\n",
            "\u001b[?25l  Downloading https://files.pythonhosted.org/packages/11/89/1025af52d0529d5f3d4872c614ee832312ed23934d0adae394fdf0b72afd/Faker-8.6.0-py3-none-any.whl (1.2MB)\n",
            "\r\u001b[K     |▎                               | 10kB 18.7MB/s eta 0:00:01\r\u001b[K     |▋                               | 20kB 22.7MB/s eta 0:00:01\r\u001b[K     |▉                               | 30kB 27.3MB/s eta 0:00:01\r\u001b[K     |█▏                              | 40kB 29.0MB/s eta 0:00:01\r\u001b[K     |█▍                              | 51kB 31.9MB/s eta 0:00:01\r\u001b[K     |█▊                              | 61kB 29.8MB/s eta 0:00:01\r\u001b[K     |██                              | 71kB 28.9MB/s eta 0:00:01\r\u001b[K     |██▎                             | 81kB 29.6MB/s eta 0:00:01\r\u001b[K     |██▌                             | 92kB 28.4MB/s eta 0:00:01\r\u001b[K     |██▉                             | 102kB 29.9MB/s eta 0:00:01\r\u001b[K     |███                             | 112kB 29.9MB/s eta 0:00:01\r\u001b[K     |███▍                            | 122kB 29.9MB/s eta 0:00:01\r\u001b[K     |███▋                            | 133kB 29.9MB/s eta 0:00:01\r\u001b[K     |████                            | 143kB 29.9MB/s eta 0:00:01\r\u001b[K     |████▏                           | 153kB 29.9MB/s eta 0:00:01\r\u001b[K     |████▌                           | 163kB 29.9MB/s eta 0:00:01\r\u001b[K     |████▊                           | 174kB 29.9MB/s eta 0:00:01\r\u001b[K     |█████                           | 184kB 29.9MB/s eta 0:00:01\r\u001b[K     |█████▎                          | 194kB 29.9MB/s eta 0:00:01\r\u001b[K     |█████▋                          | 204kB 29.9MB/s eta 0:00:01\r\u001b[K     |█████▉                          | 215kB 29.9MB/s eta 0:00:01\r\u001b[K     |██████▏                         | 225kB 29.9MB/s eta 0:00:01\r\u001b[K     |██████▍                         | 235kB 29.9MB/s eta 0:00:01\r\u001b[K     |██████▊                         | 245kB 29.9MB/s eta 0:00:01\r\u001b[K     |███████                         | 256kB 29.9MB/s eta 0:00:01\r\u001b[K     |███████▎                        | 266kB 29.9MB/s eta 0:00:01\r\u001b[K     |███████▋                        | 276kB 29.9MB/s eta 0:00:01\r\u001b[K     |███████▉                        | 286kB 29.9MB/s eta 0:00:01\r\u001b[K     |████████▏                       | 296kB 29.9MB/s eta 0:00:01\r\u001b[K     |████████▍                       | 307kB 29.9MB/s eta 0:00:01\r\u001b[K     |████████▊                       | 317kB 29.9MB/s eta 0:00:01\r\u001b[K     |█████████                       | 327kB 29.9MB/s eta 0:00:01\r\u001b[K     |█████████▎                      | 337kB 29.9MB/s eta 0:00:01\r\u001b[K     |█████████▌                      | 348kB 29.9MB/s eta 0:00:01\r\u001b[K     |█████████▉                      | 358kB 29.9MB/s eta 0:00:01\r\u001b[K     |██████████                      | 368kB 29.9MB/s eta 0:00:01\r\u001b[K     |██████████▍                     | 378kB 29.9MB/s eta 0:00:01\r\u001b[K     |██████████▋                     | 389kB 29.9MB/s eta 0:00:01\r\u001b[K     |███████████                     | 399kB 29.9MB/s eta 0:00:01\r\u001b[K     |███████████▏                    | 409kB 29.9MB/s eta 0:00:01\r\u001b[K     |███████████▌                    | 419kB 29.9MB/s eta 0:00:01\r\u001b[K     |███████████▊                    | 430kB 29.9MB/s eta 0:00:01\r\u001b[K     |████████████                    | 440kB 29.9MB/s eta 0:00:01\r\u001b[K     |████████████▎                   | 450kB 29.9MB/s eta 0:00:01\r\u001b[K     |████████████▋                   | 460kB 29.9MB/s eta 0:00:01\r\u001b[K     |████████████▉                   | 471kB 29.9MB/s eta 0:00:01\r\u001b[K     |█████████████▏                  | 481kB 29.9MB/s eta 0:00:01\r\u001b[K     |█████████████▍                  | 491kB 29.9MB/s eta 0:00:01\r\u001b[K     |█████████████▊                  | 501kB 29.9MB/s eta 0:00:01\r\u001b[K     |██████████████                  | 512kB 29.9MB/s eta 0:00:01\r\u001b[K     |██████████████▎                 | 522kB 29.9MB/s eta 0:00:01\r\u001b[K     |██████████████▋                 | 532kB 29.9MB/s eta 0:00:01\r\u001b[K     |██████████████▉                 | 542kB 29.9MB/s eta 0:00:01\r\u001b[K     |███████████████▏                | 552kB 29.9MB/s eta 0:00:01\r\u001b[K     |███████████████▍                | 563kB 29.9MB/s eta 0:00:01\r\u001b[K     |███████████████▊                | 573kB 29.9MB/s eta 0:00:01\r\u001b[K     |████████████████                | 583kB 29.9MB/s eta 0:00:01\r\u001b[K     |████████████████▎               | 593kB 29.9MB/s eta 0:00:01\r\u001b[K     |████████████████▌               | 604kB 29.9MB/s eta 0:00:01\r\u001b[K     |████████████████▉               | 614kB 29.9MB/s eta 0:00:01\r\u001b[K     |█████████████████               | 624kB 29.9MB/s eta 0:00:01\r\u001b[K     |█████████████████▍              | 634kB 29.9MB/s eta 0:00:01\r\u001b[K     |█████████████████▋              | 645kB 29.9MB/s eta 0:00:01\r\u001b[K     |██████████████████              | 655kB 29.9MB/s eta 0:00:01\r\u001b[K     |██████████████████▏             | 665kB 29.9MB/s eta 0:00:01\r\u001b[K     |██████████████████▌             | 675kB 29.9MB/s eta 0:00:01\r\u001b[K     |██████████████████▊             | 686kB 29.9MB/s eta 0:00:01\r\u001b[K     |███████████████████             | 696kB 29.9MB/s eta 0:00:01\r\u001b[K     |███████████████████▎            | 706kB 29.9MB/s eta 0:00:01\r\u001b[K     |███████████████████▋            | 716kB 29.9MB/s eta 0:00:01\r\u001b[K     |███████████████████▉            | 727kB 29.9MB/s eta 0:00:01\r\u001b[K     |████████████████████▏           | 737kB 29.9MB/s eta 0:00:01\r\u001b[K     |████████████████████▍           | 747kB 29.9MB/s eta 0:00:01\r\u001b[K     |████████████████████▊           | 757kB 29.9MB/s eta 0:00:01\r\u001b[K     |█████████████████████           | 768kB 29.9MB/s eta 0:00:01\r\u001b[K     |█████████████████████▎          | 778kB 29.9MB/s eta 0:00:01\r\u001b[K     |█████████████████████▋          | 788kB 29.9MB/s eta 0:00:01\r\u001b[K     |█████████████████████▉          | 798kB 29.9MB/s eta 0:00:01\r\u001b[K     |██████████████████████▏         | 808kB 29.9MB/s eta 0:00:01\r\u001b[K     |██████████████████████▍         | 819kB 29.9MB/s eta 0:00:01\r\u001b[K     |██████████████████████▊         | 829kB 29.9MB/s eta 0:00:01\r\u001b[K     |███████████████████████         | 839kB 29.9MB/s eta 0:00:01\r\u001b[K     |███████████████████████▎        | 849kB 29.9MB/s eta 0:00:01\r\u001b[K     |███████████████████████▌        | 860kB 29.9MB/s eta 0:00:01\r\u001b[K     |███████████████████████▉        | 870kB 29.9MB/s eta 0:00:01\r\u001b[K     |████████████████████████        | 880kB 29.9MB/s eta 0:00:01\r\u001b[K     |████████████████████████▍       | 890kB 29.9MB/s eta 0:00:01\r\u001b[K     |████████████████████████▋       | 901kB 29.9MB/s eta 0:00:01\r\u001b[K     |█████████████████████████       | 911kB 29.9MB/s eta 0:00:01\r\u001b[K     |█████████████████████████▏      | 921kB 29.9MB/s eta 0:00:01\r\u001b[K     |█████████████████████████▌      | 931kB 29.9MB/s eta 0:00:01\r\u001b[K     |█████████████████████████▊      | 942kB 29.9MB/s eta 0:00:01\r\u001b[K     |██████████████████████████      | 952kB 29.9MB/s eta 0:00:01\r\u001b[K     |██████████████████████████▎     | 962kB 29.9MB/s eta 0:00:01\r\u001b[K     |██████████████████████████▋     | 972kB 29.9MB/s eta 0:00:01\r\u001b[K     |██████████████████████████▉     | 983kB 29.9MB/s eta 0:00:01\r\u001b[K     |███████████████████████████▏    | 993kB 29.9MB/s eta 0:00:01\r\u001b[K     |███████████████████████████▌    | 1.0MB 29.9MB/s eta 0:00:01\r\u001b[K     |███████████████████████████▊    | 1.0MB 29.9MB/s eta 0:00:01\r\u001b[K     |████████████████████████████    | 1.0MB 29.9MB/s eta 0:00:01\r\u001b[K     |████████████████████████████▎   | 1.0MB 29.9MB/s eta 0:00:01\r\u001b[K     |████████████████████████████▋   | 1.0MB 29.9MB/s eta 0:00:01\r\u001b[K     |████████████████████████████▉   | 1.1MB 29.9MB/s eta 0:00:01\r\u001b[K     |█████████████████████████████▏  | 1.1MB 29.9MB/s eta 0:00:01\r\u001b[K     |█████████████████████████████▍  | 1.1MB 29.9MB/s eta 0:00:01\r\u001b[K     |█████████████████████████████▊  | 1.1MB 29.9MB/s eta 0:00:01\r\u001b[K     |██████████████████████████████  | 1.1MB 29.9MB/s eta 0:00:01\r\u001b[K     |██████████████████████████████▎ | 1.1MB 29.9MB/s eta 0:00:01\r\u001b[K     |██████████████████████████████▌ | 1.1MB 29.9MB/s eta 0:00:01\r\u001b[K     |██████████████████████████████▉ | 1.1MB 29.9MB/s eta 0:00:01\r\u001b[K     |███████████████████████████████ | 1.1MB 29.9MB/s eta 0:00:01\r\u001b[K     |███████████████████████████████▍| 1.1MB 29.9MB/s eta 0:00:01\r\u001b[K     |███████████████████████████████▋| 1.2MB 29.9MB/s eta 0:00:01\r\u001b[K     |████████████████████████████████| 1.2MB 29.9MB/s eta 0:00:01\r\u001b[K     |████████████████████████████████| 1.2MB 29.9MB/s \n",
            "\u001b[?25hRequirement already satisfied: python-dateutil>=2.4 in /usr/local/lib/python3.7/dist-packages (from Faker) (2.8.1)\n",
            "Requirement already satisfied: text-unidecode==1.3 in /usr/local/lib/python3.7/dist-packages (from Faker) (1.3)\n",
            "Requirement already satisfied: six>=1.5 in /usr/local/lib/python3.7/dist-packages (from python-dateutil>=2.4->Faker) (1.15.0)\n",
            "Installing collected packages: Faker\n",
            "Successfully installed Faker-8.6.0\n"
          ],
          "name": "stdout"
        }
      ]
    },
    {
      "cell_type": "markdown",
      "metadata": {
        "id": "Q21Xt-Tb60jx"
      },
      "source": [
        "Importamos Faker y luego creamos una instancia del paquete con la variable llamada fake"
      ]
    },
    {
      "cell_type": "code",
      "metadata": {
        "ExecuteTime": {
          "end_time": "2020-08-15T20:28:33.088095Z",
          "start_time": "2020-08-15T20:28:32.930653Z"
        },
        "id": "XF65uVcW5iNk"
      },
      "source": [
        "from faker import Faker"
      ],
      "execution_count": 7,
      "outputs": []
    },
    {
      "cell_type": "code",
      "metadata": {
        "ExecuteTime": {
          "end_time": "2020-08-15T20:28:33.752847Z",
          "start_time": "2020-08-15T20:28:33.665772Z"
        },
        "id": "IKEBP0qm5iNk"
      },
      "source": [
        "fake = Faker()"
      ],
      "execution_count": 8,
      "outputs": []
    },
    {
      "cell_type": "markdown",
      "metadata": {
        "id": "bKnLNUeS5iNl"
      },
      "source": [
        "# Métodos básicos\n",
        "Podemos crear nombres, direcciones, nombres de colores y empleos falsos con faker."
      ]
    },
    {
      "cell_type": "code",
      "metadata": {
        "ExecuteTime": {
          "end_time": "2020-08-15T20:28:35.016790Z",
          "start_time": "2020-08-15T20:28:34.990699Z"
        },
        "id": "aEkgpDgj5iNl",
        "colab": {
          "base_uri": "https://localhost:8080/",
          "height": 35
        },
        "outputId": "3f1aa766-ec3f-404b-f4af-eb280f838f68"
      },
      "source": [
        "fake.color_name()"
      ],
      "execution_count": 9,
      "outputs": [
        {
          "output_type": "execute_result",
          "data": {
            "application/vnd.google.colaboratory.intrinsic+json": {
              "type": "string"
            },
            "text/plain": [
              "'DarkSalmon'"
            ]
          },
          "metadata": {
            "tags": []
          },
          "execution_count": 9
        }
      ]
    },
    {
      "cell_type": "code",
      "metadata": {
        "ExecuteTime": {
          "end_time": "2020-08-15T20:28:35.629398Z",
          "start_time": "2020-08-15T20:28:35.618552Z"
        },
        "id": "tI14vn9i5iNm",
        "colab": {
          "base_uri": "https://localhost:8080/",
          "height": 35
        },
        "outputId": "4e134e22-579b-4bc5-9c67-038257bf03aa"
      },
      "source": [
        "fake.name()"
      ],
      "execution_count": 10,
      "outputs": [
        {
          "output_type": "execute_result",
          "data": {
            "application/vnd.google.colaboratory.intrinsic+json": {
              "type": "string"
            },
            "text/plain": [
              "'Adam Garcia'"
            ]
          },
          "metadata": {
            "tags": []
          },
          "execution_count": 10
        }
      ]
    },
    {
      "cell_type": "code",
      "metadata": {
        "ExecuteTime": {
          "end_time": "2020-08-15T20:28:36.152075Z",
          "start_time": "2020-08-15T20:28:36.140339Z"
        },
        "id": "GWHtNmRD5iNm",
        "colab": {
          "base_uri": "https://localhost:8080/",
          "height": 35
        },
        "outputId": "bc9cba08-022e-424a-8366-4f5d56e18082"
      },
      "source": [
        "fake.address()"
      ],
      "execution_count": 11,
      "outputs": [
        {
          "output_type": "execute_result",
          "data": {
            "application/vnd.google.colaboratory.intrinsic+json": {
              "type": "string"
            },
            "text/plain": [
              "'Unit 5382 Box 4434\\nDPO AA 06717'"
            ]
          },
          "metadata": {
            "tags": []
          },
          "execution_count": 11
        }
      ]
    },
    {
      "cell_type": "code",
      "metadata": {
        "ExecuteTime": {
          "end_time": "2020-08-15T20:28:37.609262Z",
          "start_time": "2020-08-15T20:28:37.598899Z"
        },
        "id": "ZTSgcQQN5iNn",
        "colab": {
          "base_uri": "https://localhost:8080/",
          "height": 35
        },
        "outputId": "a5eba13d-5028-40ac-ef2d-0da8328e2290"
      },
      "source": [
        "fake.job()"
      ],
      "execution_count": 12,
      "outputs": [
        {
          "output_type": "execute_result",
          "data": {
            "application/vnd.google.colaboratory.intrinsic+json": {
              "type": "string"
            },
            "text/plain": [
              "'Rural practice surveyor'"
            ]
          },
          "metadata": {
            "tags": []
          },
          "execution_count": 12
        }
      ]
    },
    {
      "cell_type": "code",
      "metadata": {
        "ExecuteTime": {
          "end_time": "2020-08-15T20:28:38.184035Z",
          "start_time": "2020-08-15T20:28:38.174111Z"
        },
        "id": "lF4O8I8E5iNo",
        "colab": {
          "base_uri": "https://localhost:8080/"
        },
        "outputId": "55c9fb13-0511-4fa8-de4b-20ca8687d093"
      },
      "source": [
        "fake.date_of_birth(minimum_age=30)"
      ],
      "execution_count": 13,
      "outputs": [
        {
          "output_type": "execute_result",
          "data": {
            "text/plain": [
              "datetime.date(1973, 12, 8)"
            ]
          },
          "metadata": {
            "tags": []
          },
          "execution_count": 13
        }
      ]
    },
    {
      "cell_type": "code",
      "metadata": {
        "ExecuteTime": {
          "end_time": "2020-08-15T20:28:38.737052Z",
          "start_time": "2020-08-15T20:28:38.727004Z"
        },
        "id": "6szCpFC05iNp",
        "colab": {
          "base_uri": "https://localhost:8080/",
          "height": 35
        },
        "outputId": "ba8636ec-4d8a-4ea1-f079-7d99f2f5eb16"
      },
      "source": [
        "fake.city()"
      ],
      "execution_count": 14,
      "outputs": [
        {
          "output_type": "execute_result",
          "data": {
            "application/vnd.google.colaboratory.intrinsic+json": {
              "type": "string"
            },
            "text/plain": [
              "'Reedberg'"
            ]
          },
          "metadata": {
            "tags": []
          },
          "execution_count": 14
        }
      ]
    },
    {
      "cell_type": "code",
      "metadata": {
        "ExecuteTime": {
          "end_time": "2020-08-15T20:28:39.299936Z",
          "start_time": "2020-08-15T20:28:39.286754Z"
        },
        "id": "rk2iDo1_5iNp",
        "colab": {
          "base_uri": "https://localhost:8080/"
        },
        "outputId": "3dcb7e3a-a571-44de-a852-8c8fe0342ad0"
      },
      "source": [
        "name = fake.name()\n",
        "color = fake.color_name()\n",
        "city = fake.city()\n",
        "job = fake.job()\n",
        "\n",
        "print('Her name is {}. She lives in {}. Her favorite color is {}. She works as a {}'.format(name, city,color, job))"
      ],
      "execution_count": 15,
      "outputs": [
        {
          "output_type": "stream",
          "text": [
            "Her name is David Fitzgerald Jr.. She lives in Patelshire. Her favorite color is MediumSpringGreen. She works as a Glass blower/designer\n"
          ],
          "name": "stdout"
        }
      ]
    },
    {
      "cell_type": "markdown",
      "metadata": {
        "id": "pEU2MuE65iNt"
      },
      "source": [
        "# Creando texto"
      ]
    },
    {
      "cell_type": "code",
      "metadata": {
        "ExecuteTime": {
          "end_time": "2020-07-31T17:33:20.258481Z",
          "start_time": "2020-07-31T17:33:20.251565Z"
        },
        "id": "pt67Gg675iNt",
        "colab": {
          "base_uri": "https://localhost:8080/",
          "height": 52
        },
        "outputId": "73810815-e8df-4115-fa91-fa4278abbd93"
      },
      "source": [
        "fake.text()"
      ],
      "execution_count": 16,
      "outputs": [
        {
          "output_type": "execute_result",
          "data": {
            "application/vnd.google.colaboratory.intrinsic+json": {
              "type": "string"
            },
            "text/plain": [
              "'Give popular cost western tree thank the. Later wife perform instead concern.\\nCitizen defense pattern around piece. Picture pretty rule either party.'"
            ]
          },
          "metadata": {
            "tags": []
          },
          "execution_count": 16
        }
      ]
    },
    {
      "cell_type": "markdown",
      "metadata": {
        "id": "pR35iYQI5iNt"
      },
      "source": [
        "## Texto utilizando un lenguaje específico"
      ]
    },
    {
      "cell_type": "code",
      "metadata": {
        "ExecuteTime": {
          "end_time": "2020-07-31T17:33:38.929576Z",
          "start_time": "2020-07-31T17:33:38.915031Z"
        },
        "id": "b_fsIbQw5iNt",
        "colab": {
          "base_uri": "https://localhost:8080/",
          "height": 69
        },
        "outputId": "7a77d4f1-88b8-4abb-dd23-4c5f66101ae3"
      },
      "source": [
        "# Japanese\n",
        "fake = Faker('ja_JP')\n",
        "fake.text()"
      ],
      "execution_count": 28,
      "outputs": [
        {
          "output_type": "execute_result",
          "data": {
            "application/vnd.google.colaboratory.intrinsic+json": {
              "type": "string"
            },
            "text/plain": [
              "'スキームプラスチック通行料金ブランチハードウェア主婦シェービング。\\n高い再現するトレーナー柔らかい。\\n協力あなた自身衝突ソース今日販売野球。販売陶器ノート式建築。\\nプラスチックパン脊椎は。プラスチック残るアクセルペダル。\\n普通のパン風景。マリン助けて管理する見落とすスペル。\\n君は主婦パーセント〜。通行料金状況叔父君はコーナー。証言する奨励します高い賞賛する極端な発生する。'"
            ]
          },
          "metadata": {
            "tags": []
          },
          "execution_count": 28
        }
      ]
    },
    {
      "cell_type": "markdown",
      "metadata": {
        "id": "-VYZkeXa5iNu"
      },
      "source": [
        "## Texto con algunas palabras en específico"
      ]
    },
    {
      "cell_type": "code",
      "metadata": {
        "ExecuteTime": {
          "end_time": "2020-07-31T17:34:21.318551Z",
          "start_time": "2020-07-31T17:34:21.300044Z"
        },
        "id": "19VWD3bC5iNu",
        "colab": {
          "base_uri": "https://localhost:8080/",
          "height": 35
        },
        "outputId": "9f9a1dd5-21b2-4165-ae95-6a3dab8f8bd8"
      },
      "source": [
        "fake = Faker()\n",
        "my_information = [\n",
        "'cat','swimming', '21', 'hack', 'girl', 'coffee', 'flower','pink']\n",
        "fake.sentence(ext_word_list=my_information)"
      ],
      "execution_count": 30,
      "outputs": [
        {
          "output_type": "execute_result",
          "data": {
            "application/vnd.google.colaboratory.intrinsic+json": {
              "type": "string"
            },
            "text/plain": [
              "'Hack flower girl 21 swimming girl girl.'"
            ]
          },
          "metadata": {
            "tags": []
          },
          "execution_count": 30
        }
      ]
    },
    {
      "cell_type": "markdown",
      "metadata": {
        "id": "dzmHAfd85iNv"
      },
      "source": [
        "# Crendo un perfil rápido"
      ]
    },
    {
      "cell_type": "code",
      "metadata": {
        "ExecuteTime": {
          "end_time": "2020-07-31T17:35:12.079974Z",
          "start_time": "2020-07-31T17:35:12.063514Z"
        },
        "id": "0iiB8-oM5iNw",
        "colab": {
          "base_uri": "https://localhost:8080/"
        },
        "outputId": "6feac901-24f1-4531-a5aa-54a350beddcb"
      },
      "source": [
        "fake = Faker()\n",
        "fake.profile()"
      ],
      "execution_count": 33,
      "outputs": [
        {
          "output_type": "execute_result",
          "data": {
            "text/plain": [
              "{'address': 'Unit 9564 Box 3830\\nDPO AA 69503',\n",
              " 'birthdate': datetime.date(2006, 3, 14),\n",
              " 'blood_group': 'O-',\n",
              " 'company': 'Foley Inc',\n",
              " 'current_location': (Decimal('-47.205402'), Decimal('-169.535409')),\n",
              " 'job': 'Exhibitions officer, museum/gallery',\n",
              " 'mail': 'ian99@yahoo.com',\n",
              " 'name': 'Elizabeth Decker',\n",
              " 'residence': '1907 Brandon Knoll Apt. 666\\nEast Shanechester, GA 44743',\n",
              " 'sex': 'F',\n",
              " 'ssn': '763-81-6601',\n",
              " 'username': 'paul08',\n",
              " 'website': ['https://peterson-riley.biz/',\n",
              "  'http://www.cruz.com/',\n",
              "  'http://warner.info/',\n",
              "  'https://young.biz/']}"
            ]
          },
          "metadata": {
            "tags": []
          },
          "execution_count": 33
        }
      ]
    },
    {
      "cell_type": "markdown",
      "metadata": {
        "id": "DavX87c79NCS"
      },
      "source": [
        "Podemos analizar lo que Faker nos regresa en un DataFrame y remover el website:"
      ]
    },
    {
      "cell_type": "code",
      "metadata": {
        "ExecuteTime": {
          "end_time": "2020-08-15T20:28:51.354410Z",
          "start_time": "2020-08-15T20:28:49.807179Z"
        },
        "id": "xY5FKA-65iNw"
      },
      "source": [
        "import pandas as pd\n",
        "\n",
        "fake = Faker(['it_IT','ja_JP', 'zh_CN', 'de_DE','en_US', 'es_MX'])\n",
        "profiles = [fake.profile() for i in range(100)]\n",
        "df = pd.DataFrame(profiles).head()\n",
        "df = df.drop('website', axis=1)"
      ],
      "execution_count": 35,
      "outputs": []
    },
    {
      "cell_type": "code",
      "metadata": {
        "ExecuteTime": {
          "end_time": "2020-08-15T20:28:51.431146Z",
          "start_time": "2020-08-15T20:28:51.358710Z"
        },
        "cell_style": "split",
        "scrolled": true,
        "id": "E0pl3mDz5iNx",
        "colab": {
          "base_uri": "https://localhost:8080/",
          "height": 551
        },
        "outputId": "b4eb7ebe-b33d-430f-9022-5e143f580c9f"
      },
      "source": [
        "df "
      ],
      "execution_count": 36,
      "outputs": [
        {
          "output_type": "execute_result",
          "data": {
            "text/html": [
              "<div>\n",
              "<style scoped>\n",
              "    .dataframe tbody tr th:only-of-type {\n",
              "        vertical-align: middle;\n",
              "    }\n",
              "\n",
              "    .dataframe tbody tr th {\n",
              "        vertical-align: top;\n",
              "    }\n",
              "\n",
              "    .dataframe thead th {\n",
              "        text-align: right;\n",
              "    }\n",
              "</style>\n",
              "<table border=\"1\" class=\"dataframe\">\n",
              "  <thead>\n",
              "    <tr style=\"text-align: right;\">\n",
              "      <th></th>\n",
              "      <th>job</th>\n",
              "      <th>company</th>\n",
              "      <th>ssn</th>\n",
              "      <th>residence</th>\n",
              "      <th>current_location</th>\n",
              "      <th>blood_group</th>\n",
              "      <th>username</th>\n",
              "      <th>name</th>\n",
              "      <th>sex</th>\n",
              "      <th>address</th>\n",
              "      <th>mail</th>\n",
              "      <th>birthdate</th>\n",
              "    </tr>\n",
              "  </thead>\n",
              "  <tbody>\n",
              "    <tr>\n",
              "      <th>0</th>\n",
              "      <td>Commissioning editor</td>\n",
              "      <td>Neal-Richards</td>\n",
              "      <td>048-13-5277</td>\n",
              "      <td>PSC 7484, Box 6467\\nAPO AE 52161</td>\n",
              "      <td>(-56.548727, -103.955908)</td>\n",
              "      <td>AB-</td>\n",
              "      <td>kristina14</td>\n",
              "      <td>Joseph French</td>\n",
              "      <td>M</td>\n",
              "      <td>4554 Rose Loop\\nPhamberg, GA 02635</td>\n",
              "      <td>nchan@yahoo.com</td>\n",
              "      <td>1977-08-20</td>\n",
              "    </tr>\n",
              "    <tr>\n",
              "      <th>1</th>\n",
              "      <td>Music therapist</td>\n",
              "      <td>Pineda, Sauceda y Canales</td>\n",
              "      <td>38259341824</td>\n",
              "      <td>Cerrada República de Moldova 798 Edif. 475 , D...</td>\n",
              "      <td>(34.0642105, 152.541700)</td>\n",
              "      <td>O-</td>\n",
              "      <td>villayuridia</td>\n",
              "      <td>Ing. Mercedes Madrigal</td>\n",
              "      <td>M</td>\n",
              "      <td>Prolongación Armenia 090 Edif. 843 , Depto. 46...</td>\n",
              "      <td>emilioortega@gmail.com</td>\n",
              "      <td>2018-01-20</td>\n",
              "    </tr>\n",
              "    <tr>\n",
              "      <th>2</th>\n",
              "      <td>Site engineer</td>\n",
              "      <td>Giles, Morrow and Stout</td>\n",
              "      <td>155-86-9092</td>\n",
              "      <td>2977 Campbell Coves\\nLake David, MD 38981</td>\n",
              "      <td>(-41.5071825, -0.610521)</td>\n",
              "      <td>A+</td>\n",
              "      <td>hannah43</td>\n",
              "      <td>John Wilkerson</td>\n",
              "      <td>M</td>\n",
              "      <td>948 Jessica Crest\\nSusantown, VA 60937</td>\n",
              "      <td>ashleesmith@hotmail.com</td>\n",
              "      <td>1929-10-11</td>\n",
              "    </tr>\n",
              "    <tr>\n",
              "      <th>3</th>\n",
              "      <td>Chief of Staff</td>\n",
              "      <td>Nugnes e figli</td>\n",
              "      <td>ZUOPNA70E87O341J</td>\n",
              "      <td>Incrocio Piovani 2 Piano 3\\nEugenia ligure, 89...</td>\n",
              "      <td>(-83.196887, -52.451642)</td>\n",
              "      <td>A-</td>\n",
              "      <td>rosario78</td>\n",
              "      <td>Martina Bernini</td>\n",
              "      <td>F</td>\n",
              "      <td>Rotonda Gentileschi 331\\nSesto Patrizia lazial...</td>\n",
              "      <td>giada34@gmail.com</td>\n",
              "      <td>1990-07-16</td>\n",
              "    </tr>\n",
              "    <tr>\n",
              "      <th>4</th>\n",
              "      <td>International aid/development worker</td>\n",
              "      <td>Cobb, Adkins and Morales</td>\n",
              "      <td>060-74-6740</td>\n",
              "      <td>41292 Andrew Streets Suite 957\\nLake Nancy, OR...</td>\n",
              "      <td>(38.730847, 64.249123)</td>\n",
              "      <td>AB-</td>\n",
              "      <td>johnbrowning</td>\n",
              "      <td>Matthew Romero</td>\n",
              "      <td>M</td>\n",
              "      <td>09987 Trevor Mountain\\nNorth Ginaborough, AZ 6...</td>\n",
              "      <td>millerjoseph@hotmail.com</td>\n",
              "      <td>1932-11-28</td>\n",
              "    </tr>\n",
              "  </tbody>\n",
              "</table>\n",
              "</div>"
            ],
            "text/plain": [
              "                                    job  ...   birthdate\n",
              "0                  Commissioning editor  ...  1977-08-20\n",
              "1                       Music therapist  ...  2018-01-20\n",
              "2                         Site engineer  ...  1929-10-11\n",
              "3                        Chief of Staff  ...  1990-07-16\n",
              "4  International aid/development worker  ...  1932-11-28\n",
              "\n",
              "[5 rows x 12 columns]"
            ]
          },
          "metadata": {
            "tags": []
          },
          "execution_count": 36
        }
      ]
    },
    {
      "cell_type": "code",
      "metadata": {
        "ExecuteTime": {
          "end_time": "2020-08-15T20:30:10.234095Z",
          "start_time": "2020-08-15T20:30:10.125431Z"
        },
        "cell_style": "center",
        "scrolled": true,
        "id": "VxpdoN875iNx"
      },
      "source": [
        "from faker import Faker \n",
        "import json            # To create a json file                 \n",
        "import numpy as np\n",
        "fake = Faker() \n",
        "def create_data(x): \n",
        "  \n",
        "    # dictionary \n",
        "    friends_data ={} \n",
        "    for i in range(0, x): \n",
        "        friends_data[i]={} \n",
        "        friends_data[i]['name']= fake.name() \n",
        "        friends_data[i]['address']= fake.address() \n",
        "        friends_data[i]['city']= fake.city() \n",
        "        friends_data[i]['color']= fake.color()\n",
        "        friends_data[i]['closeness (1-5)'] = np.random.randint(0,5)\n",
        "    \n",
        "    return friends_data\n",
        "    \n",
        "friends = create_data(10)\n",
        "df2 = pd.DataFrame.from_dict(friends) "
      ],
      "execution_count": 39,
      "outputs": []
    },
    {
      "cell_type": "markdown",
      "metadata": {
        "id": "CwgjKDiB5iNy"
      },
      "source": [
        "# Python Datatypes Tipos de datos en Python"
      ]
    },
    {
      "cell_type": "code",
      "metadata": {
        "ExecuteTime": {
          "end_time": "2020-07-31T17:36:34.378904Z",
          "start_time": "2020-07-31T17:36:34.366647Z"
        },
        "id": "c2L32E3x5iNy",
        "colab": {
          "base_uri": "https://localhost:8080/"
        },
        "outputId": "07916cba-e9e0-4599-ec9c-9bc3458865ea"
      },
      "source": [
        "fake.pybool()"
      ],
      "execution_count": 45,
      "outputs": [
        {
          "output_type": "execute_result",
          "data": {
            "text/plain": [
              "True"
            ]
          },
          "metadata": {
            "tags": []
          },
          "execution_count": 45
        }
      ]
    },
    {
      "cell_type": "markdown",
      "metadata": {
        "id": "dGTWKlXh90u5"
      },
      "source": [
        "# Creando una lista de 5 elementos con diferentes tipos de datos\n"
      ]
    },
    {
      "cell_type": "code",
      "metadata": {
        "ExecuteTime": {
          "end_time": "2020-07-31T17:36:51.124218Z",
          "start_time": "2020-07-31T17:36:51.120707Z"
        },
        "id": "xYjs32FY5iNz",
        "colab": {
          "base_uri": "https://localhost:8080/"
        },
        "outputId": "b6cd8805-8748-42d2-d63c-772908e2009d"
      },
      "source": [
        "fake.pylist(nb_elements=5, variable_nb_elements=True)"
      ],
      "execution_count": 47,
      "outputs": [
        {
          "output_type": "execute_result",
          "data": {
            "text/plain": [
              "['JShKFgnGDKjhiiKzVpWc',\n",
              " 'OSxrgiiyHSdERAegZBnI',\n",
              " 'http://morales.com/',\n",
              " 'fUPLZpFfDRIRPRLSIfBN',\n",
              " 'http://knight.com/categories/search/login.asp',\n",
              " 'uPkvcpacGsNXzQSlXAEl']"
            ]
          },
          "metadata": {
            "tags": []
          },
          "execution_count": 47
        }
      ]
    },
    {
      "cell_type": "markdown",
      "metadata": {
        "id": "d1JCf9Ih98aH"
      },
      "source": [
        "# O un decimal con 5 dígitos a la izquierda y 6 a la derecha.\n"
      ]
    },
    {
      "cell_type": "code",
      "metadata": {
        "ExecuteTime": {
          "end_time": "2020-07-31T17:37:08.790088Z",
          "start_time": "2020-07-31T17:37:08.785917Z"
        },
        "id": "vmzYwghB5iNz",
        "colab": {
          "base_uri": "https://localhost:8080/"
        },
        "outputId": "c9c16002-e0d0-40ed-f146-293ea376378d"
      },
      "source": [
        "fake.pydecimal(left_digits=5, right_digits=6, positive=False, min_value=None, max_value=None)"
      ],
      "execution_count": 48,
      "outputs": [
        {
          "output_type": "execute_result",
          "data": {
            "text/plain": [
              "Decimal('-14323.655327')"
            ]
          },
          "metadata": {
            "tags": []
          },
          "execution_count": 48
        }
      ]
    }
  ]
}