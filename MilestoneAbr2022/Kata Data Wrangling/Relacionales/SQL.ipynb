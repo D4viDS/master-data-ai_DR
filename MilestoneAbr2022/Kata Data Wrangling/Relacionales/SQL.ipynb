{
 "cells": [
  {
   "cell_type": "markdown",
   "metadata": {},
   "source": [
    "## Conexión y creación a la base de datos"
   ]
  },
  {
   "cell_type": "code",
   "execution_count": 1,
   "metadata": {},
   "outputs": [],
   "source": [
    "import sqlite3"
   ]
  },
  {
   "cell_type": "code",
   "execution_count": 2,
   "metadata": {},
   "outputs": [],
   "source": [
    "conn = sqlite3.connect(\"lesson.db\")"
   ]
  },
  {
   "cell_type": "code",
   "execution_count": 3,
   "metadata": {},
   "outputs": [],
   "source": [
    "conn.close()"
   ]
  },
  {
   "cell_type": "code",
   "execution_count": 4,
   "metadata": {},
   "outputs": [
    {
     "data": {
      "text/plain": [
       "<sqlite3.Connection at 0x1b56b88c8a0>"
      ]
     },
     "execution_count": 4,
     "metadata": {},
     "output_type": "execute_result"
    }
   ],
   "source": [
    "conn"
   ]
  },
  {
   "cell_type": "code",
   "execution_count": 5,
   "metadata": {},
   "outputs": [
    {
     "data": {
      "text/plain": [
       "<sqlite3.Connection at 0x1b56b88cb70>"
      ]
     },
     "execution_count": 5,
     "metadata": {},
     "output_type": "execute_result"
    }
   ],
   "source": [
    "with sqlite3.connect(\"lesson.db\") as conn:\n",
    "    # utilice conn\n",
    "    pass\n",
    "conn"
   ]
  },
  {
   "cell_type": "markdown",
   "metadata": {},
   "source": [
    "## Construyendo base de datos de : Usuarios y sus comentarios"
   ]
  },
  {
   "cell_type": "code",
   "execution_count": 6,
   "metadata": {},
   "outputs": [],
   "source": [
    "with sqlite3.connect(\"lesson.db\") as conn:\n",
    "    cursor = conn.cursor()"
   ]
  },
  {
   "cell_type": "code",
   "execution_count": 12,
   "metadata": {},
   "outputs": [
    {
     "data": {
      "text/plain": [
       "<sqlite3.Cursor at 0x1b56b9ea340>"
      ]
     },
     "execution_count": 12,
     "metadata": {},
     "output_type": "execute_result"
    }
   ],
   "source": [
    "cursor.execute(\"CREATE TABLE IF NOT EXISTS user(email text, first_name text, last_name text, address text, age integer, PRIMARY KEY(email))\")"
   ]
  },
  {
   "cell_type": "code",
   "execution_count": 13,
   "metadata": {},
   "outputs": [
    {
     "data": {
      "text/plain": [
       "<sqlite3.Cursor at 0x1b56b9ea340>"
      ]
     },
     "execution_count": 13,
     "metadata": {},
     "output_type": "execute_result"
    }
   ],
   "source": [
    "cursor.execute(\"INSERT INTO user VALUES ('bob@example.com', 'Bob', 'Codd', '123 Fantasy lane, Fantasy City', 31)\")"
   ]
  },
  {
   "cell_type": "code",
   "execution_count": 15,
   "metadata": {},
   "outputs": [
    {
     "ename": "IntegrityError",
     "evalue": "UNIQUE constraint failed: user.email",
     "output_type": "error",
     "traceback": [
      "\u001b[1;31m---------------------------------------------------------------------------\u001b[0m",
      "\u001b[1;31mIntegrityError\u001b[0m                            Traceback (most recent call last)",
      "\u001b[1;32m<ipython-input-15-0729df4d8391>\u001b[0m in \u001b[0;36m<module>\u001b[1;34m\u001b[0m\n\u001b[1;32m----> 1\u001b[1;33m \u001b[0mcursor\u001b[0m\u001b[1;33m.\u001b[0m\u001b[0mexecute\u001b[0m\u001b[1;33m(\u001b[0m\u001b[1;34m\"INSERT INTO user VALUES ('tom@web.com', 'Tom', 'Fake', '456 Fantasy lane, Fantasy City', 39)\"\u001b[0m\u001b[1;33m)\u001b[0m\u001b[1;33m\u001b[0m\u001b[1;33m\u001b[0m\u001b[0m\n\u001b[0m",
      "\u001b[1;31mIntegrityError\u001b[0m: UNIQUE constraint failed: user.email"
     ]
    }
   ],
   "source": [
    "cursor.execute(\"INSERT INTO user VALUES ('tom@web.com', 'Tom', 'Fake', '456 Fantasy lane, Fantasy City', 39)\")"
   ]
  },
  {
   "cell_type": "code",
   "execution_count": 25,
   "metadata": {},
   "outputs": [
    {
     "name": "stdout",
     "output_type": "stream",
     "text": [
      "('table', 'user', 'user', 2, 'CREATE TABLE user(email text, first_name text, last_name text, address text, age integer, PRIMARY KEY(email))')\n"
     ]
    }
   ],
   "source": [
    "tables = cursor.execute(\"select * from sqlite_master where type='table'\")\n",
    "for row in rows:\n",
    "    print(row)"
   ]
  },
  {
   "cell_type": "code",
   "execution_count": 19,
   "metadata": {},
   "outputs": [],
   "source": [
    "conn.commit()"
   ]
  },
  {
   "cell_type": "code",
   "execution_count": 26,
   "metadata": {},
   "outputs": [
    {
     "name": "stdout",
     "output_type": "stream",
     "text": [
      "('bob@example.com', 'Bob', 'Codd', '123 Fantasy lane, Fantasy City', 31)\n",
      "('tom@web.com', 'Tom', 'Fake', '456 Fantasy lane, Fantasy City', 39)\n"
     ]
    }
   ],
   "source": [
    "rows = cursor.execute(\"SELECT * FROM user\")\n",
    "for row in rows:\n",
    "    print(row)"
   ]
  },
  {
   "cell_type": "code",
   "execution_count": 27,
   "metadata": {},
   "outputs": [
    {
     "name": "stdout",
     "output_type": "stream",
     "text": [
      "('bob@example.com',)\n",
      "('tom@web.com',)\n"
     ]
    }
   ],
   "source": [
    "rows = cursor.execute(\"SELECT email FROM user\")\n",
    "for row in rows:\n",
    "    print(row)"
   ]
  },
  {
   "cell_type": "code",
   "execution_count": 28,
   "metadata": {},
   "outputs": [
    {
     "name": "stdout",
     "output_type": "stream",
     "text": [
      "(31,)\n",
      "(39,)\n"
     ]
    }
   ],
   "source": [
    "rows = cursor.execute(\"SELECT age FROM user\")\n",
    "for row in rows:\n",
    "    print(row)"
   ]
  },
  {
   "cell_type": "code",
   "execution_count": 29,
   "metadata": {},
   "outputs": [
    {
     "name": "stdout",
     "output_type": "stream",
     "text": [
      "('tom@web.com', 39)\n",
      "('bob@example.com', 31)\n"
     ]
    }
   ],
   "source": [
    "rows = cursor.execute(\"SELECT email, age FROM user ORDER BY age DESC\")\n",
    "for row in rows:\n",
    "    print(row)"
   ]
  },
  {
   "cell_type": "code",
   "execution_count": 30,
   "metadata": {},
   "outputs": [
    {
     "data": {
      "text/plain": [
       "<sqlite3.Cursor at 0x1b56b9ea340>"
      ]
     },
     "execution_count": 30,
     "metadata": {},
     "output_type": "execute_result"
    }
   ],
   "source": [
    "cursor.execute('ALTER TABLE user ADD COLUMN gender text')"
   ]
  },
  {
   "cell_type": "code",
   "execution_count": 31,
   "metadata": {},
   "outputs": [],
   "source": [
    "conn.commit()"
   ]
  },
  {
   "cell_type": "code",
   "execution_count": 39,
   "metadata": {},
   "outputs": [
    {
     "name": "stdout",
     "output_type": "stream",
     "text": [
      "('tom@web.com', 'Tom', 'Fake', '456 Fantasy lane, Fantasy City', 39, 'M')\n"
     ]
    }
   ],
   "source": [
    "rows = cursor.execute(\"SELECT * FROM user WHERE user.email='tom@web.com'\")\n",
    "for row in rows:\n",
    "    print(row)"
   ]
  },
  {
   "cell_type": "code",
   "execution_count": 40,
   "metadata": {},
   "outputs": [],
   "source": [
    "# cursor.execute(\"UPDATE user SET gender='M' WHERE user.email='tom@web.com'\")\n",
    "cursor.execute(\"UPDATE user SET gender='M'\")\n",
    "conn.commit()"
   ]
  },
  {
   "cell_type": "code",
   "execution_count": 41,
   "metadata": {},
   "outputs": [
    {
     "name": "stdout",
     "output_type": "stream",
     "text": [
      "('bob@example.com', 'Bob', 'Codd', '123 Fantasy lane, Fantasy City', 31, 'M')\n",
      "('tom@web.com', 'Tom', 'Fake', '456 Fantasy lane, Fantasy City', 39, 'M')\n"
     ]
    }
   ],
   "source": [
    "rows = cursor.execute(\"SELECT * FROM user\")\n",
    "for row in rows:\n",
    "    print(row)"
   ]
  },
  {
   "cell_type": "code",
   "execution_count": 44,
   "metadata": {},
   "outputs": [
    {
     "data": {
      "text/plain": [
       "<sqlite3.Cursor at 0x1b56b9ea340>"
      ]
     },
     "execution_count": 44,
     "metadata": {},
     "output_type": "execute_result"
    }
   ],
   "source": [
    "cursor.execute(\"INSERT INTO user VALUES('shelly@www.com', 'Shelly', 'Milar', '123, Ocean View Lane', 39, 'F')\")"
   ]
  },
  {
   "cell_type": "code",
   "execution_count": 45,
   "metadata": {},
   "outputs": [],
   "source": [
    "conn.commit()"
   ]
  },
  {
   "cell_type": "code",
   "execution_count": 46,
   "metadata": {},
   "outputs": [
    {
     "name": "stdout",
     "output_type": "stream",
     "text": [
      "('bob@example.com', 'Bob', 'Codd', '123 Fantasy lane, Fantasy City', 31, 'M')\n",
      "('tom@web.com', 'Tom', 'Fake', '456 Fantasy lane, Fantasy City', 39, 'M')\n",
      "('shelly@www.com', 'Shelly', 'Milar', '123, Ocean View Lane', 39, 'F')\n"
     ]
    }
   ],
   "source": [
    "rows = cursor.execute(\"SELECT * FROM user\")\n",
    "for row in rows:\n",
    "    print(row)"
   ]
  },
  {
   "cell_type": "code",
   "execution_count": 61,
   "metadata": {},
   "outputs": [
    {
     "name": "stdout",
     "output_type": "stream",
     "text": [
      "(36.0,)\n"
     ]
    }
   ],
   "source": [
    "rows = cursor.execute(\"SELECT ROUND(AVG(age),0) FROM user\")\n",
    "for row in rows:\n",
    "    print(row)"
   ]
  },
  {
   "cell_type": "markdown",
   "metadata": {},
   "source": [
    "\n",
    "### Crear relación con otra tabla"
   ]
  },
  {
   "cell_type": "code",
   "execution_count": 64,
   "metadata": {},
   "outputs": [
    {
     "data": {
      "text/plain": [
       "<sqlite3.Cursor at 0x1b56b9ea340>"
      ]
     },
     "execution_count": 64,
     "metadata": {},
     "output_type": "execute_result"
    }
   ],
   "source": [
    "# obligatorio para llaves foranes\n",
    "cursor.execute('PRAGMA foreign_keys = 1')"
   ]
  },
  {
   "cell_type": "code",
   "execution_count": 65,
   "metadata": {},
   "outputs": [
    {
     "data": {
      "text/plain": [
       "<sqlite3.Cursor at 0x1b56b9ea340>"
      ]
     },
     "execution_count": 65,
     "metadata": {},
     "output_type": "execute_result"
    }
   ],
   "source": [
    "sql = \"\"\"\n",
    "    CREATE TABLE comments(\n",
    "        user_id text,\n",
    "        comments text,\n",
    "        FOREIGN KEY (user_id) REFERENCES user (email)\n",
    "        ON DELETE CASCADE ON UPDATE NO ACTION\n",
    "    )\n",
    "\"\"\"\n",
    "\n",
    "cursor.execute(sql)"
   ]
  },
  {
   "cell_type": "code",
   "execution_count": 69,
   "metadata": {},
   "outputs": [
    {
     "name": "stdout",
     "output_type": "stream",
     "text": [
      "Going to create rows for bob@example.com\n",
      "Going to create rows for tom@web.com\n",
      "Going to create rows for shelly@www.com\n"
     ]
    }
   ],
   "source": [
    "sql = \"INSERT INTO comments VALUES ('{}', '{}')\"\n",
    "rows = cursor.execute('SELECT * FROM user ORDER BY age')\n",
    "for row in rows:\n",
    "    email = row[0]\n",
    "    print(\"Going to create rows for {}\".format(email))\n",
    "    name = row[1] + \" \" + row[2]\n",
    "    for i in range(10):\n",
    "        comment = \"This is comment {} by {}\".format(i, name)\n",
    "        conn.cursor().execute(sql.format(email, comment))\n",
    "conn.commit()"
   ]
  },
  {
   "cell_type": "code",
   "execution_count": 72,
   "metadata": {},
   "outputs": [
    {
     "name": "stdout",
     "output_type": "stream",
     "text": [
      "('bob@example.com', 'This is comment 0 by Bob Codd', 'bob@example.com', 'Bob', 'Codd', '123 Fantasy lane, Fantasy City', 31, 'M')\n",
      "('bob@example.com', 'This is comment 1 by Bob Codd', 'bob@example.com', 'Bob', 'Codd', '123 Fantasy lane, Fantasy City', 31, 'M')\n",
      "('bob@example.com', 'This is comment 2 by Bob Codd', 'bob@example.com', 'Bob', 'Codd', '123 Fantasy lane, Fantasy City', 31, 'M')\n",
      "('bob@example.com', 'This is comment 3 by Bob Codd', 'bob@example.com', 'Bob', 'Codd', '123 Fantasy lane, Fantasy City', 31, 'M')\n",
      "('bob@example.com', 'This is comment 4 by Bob Codd', 'bob@example.com', 'Bob', 'Codd', '123 Fantasy lane, Fantasy City', 31, 'M')\n",
      "('bob@example.com', 'This is comment 5 by Bob Codd', 'bob@example.com', 'Bob', 'Codd', '123 Fantasy lane, Fantasy City', 31, 'M')\n",
      "('bob@example.com', 'This is comment 6 by Bob Codd', 'bob@example.com', 'Bob', 'Codd', '123 Fantasy lane, Fantasy City', 31, 'M')\n",
      "('bob@example.com', 'This is comment 7 by Bob Codd', 'bob@example.com', 'Bob', 'Codd', '123 Fantasy lane, Fantasy City', 31, 'M')\n",
      "('bob@example.com', 'This is comment 8 by Bob Codd', 'bob@example.com', 'Bob', 'Codd', '123 Fantasy lane, Fantasy City', 31, 'M')\n",
      "('bob@example.com', 'This is comment 9 by Bob Codd', 'bob@example.com', 'Bob', 'Codd', '123 Fantasy lane, Fantasy City', 31, 'M')\n",
      "('bob@example.com', 'This is comment 0 by Bob Codd', 'bob@example.com', 'Bob', 'Codd', '123 Fantasy lane, Fantasy City', 31, 'M')\n",
      "('bob@example.com', 'This is comment 1 by Bob Codd', 'bob@example.com', 'Bob', 'Codd', '123 Fantasy lane, Fantasy City', 31, 'M')\n",
      "('bob@example.com', 'This is comment 2 by Bob Codd', 'bob@example.com', 'Bob', 'Codd', '123 Fantasy lane, Fantasy City', 31, 'M')\n",
      "('bob@example.com', 'This is comment 3 by Bob Codd', 'bob@example.com', 'Bob', 'Codd', '123 Fantasy lane, Fantasy City', 31, 'M')\n",
      "('bob@example.com', 'This is comment 4 by Bob Codd', 'bob@example.com', 'Bob', 'Codd', '123 Fantasy lane, Fantasy City', 31, 'M')\n",
      "('bob@example.com', 'This is comment 5 by Bob Codd', 'bob@example.com', 'Bob', 'Codd', '123 Fantasy lane, Fantasy City', 31, 'M')\n",
      "('bob@example.com', 'This is comment 6 by Bob Codd', 'bob@example.com', 'Bob', 'Codd', '123 Fantasy lane, Fantasy City', 31, 'M')\n",
      "('bob@example.com', 'This is comment 7 by Bob Codd', 'bob@example.com', 'Bob', 'Codd', '123 Fantasy lane, Fantasy City', 31, 'M')\n",
      "('bob@example.com', 'This is comment 8 by Bob Codd', 'bob@example.com', 'Bob', 'Codd', '123 Fantasy lane, Fantasy City', 31, 'M')\n",
      "('bob@example.com', 'This is comment 9 by Bob Codd', 'bob@example.com', 'Bob', 'Codd', '123 Fantasy lane, Fantasy City', 31, 'M')\n"
     ]
    }
   ],
   "source": [
    "sql = \"\"\"\n",
    "    SELECT * FROM comments JOIN user\n",
    "    ON comments.user_id = user.email\n",
    "    WHERE user.email = 'bob@example.com'\n",
    "\"\"\"\n",
    "rows = cursor.execute(sql)\n",
    "for row in rows:\n",
    "    print(row)"
   ]
  },
  {
   "cell_type": "code",
   "execution_count": 75,
   "metadata": {},
   "outputs": [
    {
     "name": "stdout",
     "output_type": "stream",
     "text": [
      "(60,)\n"
     ]
    }
   ],
   "source": [
    "rows = cursor.execute(\"SELECT COUNT(*) FROM comments\")\n",
    "for row in rows:\n",
    "    print(row)"
   ]
  },
  {
   "cell_type": "markdown",
   "metadata": {},
   "source": [
    "# Ejercicio"
   ]
  },
  {
   "cell_type": "markdown",
   "metadata": {},
   "source": [
    "¿Cuál es el recuento de personas pertenecientes a diferentes grupos de edad en la tabla de personas?\n",
    "\n",
    "¿Qué grupo de edad tiene el número máximo de personas?\n",
    "\n",
    "¿Cuántas personas no tienen apellido?\n",
    "\n",
    "¿Cuántas personas tienen más de una mascota?\n",
    "\n",
    "¿Cuántas mascotas han recibido tratamiento?\n",
    "\n",
    "¿Cuántas mascotas han recibido tratamiento y se conoce el tipo de mascota?\n",
    "\n",
    "¿Cuántas mascotas son de la ciudad llamada puerto este?\n",
    "\n",
    "¿Cuántas mascotas son de la ciudad llamada puerto este y quiénes recibieron tratamiento?"
   ]
  },
  {
   "cell_type": "markdown",
   "metadata": {},
   "source": [
    "### Descripciones de las tablas\n",
    "\n",
    "La tabla de personas se define de la siguiente manera:\n",
    "\n",
    "first_name: el nombre de la persona\n",
    "last_name: el apellido de la persona (puede ser nulo)\n",
    "age: la edad de la persona\n",
    "ciudad: la ciudad de donde son\n",
    "zip_code: el código postal de la ciudad\n",
    "Como podemos ver, la columna de identificación en la tabla de personas (que es un número entero) sirve como la clave principal para esa tabla y como una clave externa para la tabla de mascotas, que está vinculada a través de la columna owner_id.\n",
    "\n",
    "La tabla de mascotas se define de la siguiente manera:\n",
    "\n",
    "pet_name: el nombre de la mascota.\n",
    "pet_type: Qué tipo de mascota es, por ejemplo, gato o perro. Debido a la falta de información adicional, no sabemos qué número representa qué, pero es un número entero y puede ser nulo.\n",
    "treatment_done: Esta es también una columna de números enteros, y 0 aquí representa No, mientras que 1 representa Sí.\n",
    "    "
   ]
  },
  {
   "cell_type": "code",
   "execution_count": 81,
   "metadata": {},
   "outputs": [],
   "source": [
    "# Te regalo la primer linea :D\n",
    "with sqlite3.connect(\"petsdb\") as conn:\n",
    "    cursor = conn.cursor()"
   ]
  },
  {
   "cell_type": "code",
   "execution_count": null,
   "metadata": {},
   "outputs": [],
   "source": []
  }
 ],
 "metadata": {
  "kernelspec": {
   "display_name": "Python 3",
   "language": "python",
   "name": "python3"
  },
  "language_info": {
   "codemirror_mode": {
    "name": "ipython",
    "version": 3
   },
   "file_extension": ".py",
   "mimetype": "text/x-python",
   "name": "python",
   "nbconvert_exporter": "python",
   "pygments_lexer": "ipython3",
   "version": "3.8.5"
  }
 },
 "nbformat": 4,
 "nbformat_minor": 4
}
